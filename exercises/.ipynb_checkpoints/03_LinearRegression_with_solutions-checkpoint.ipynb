{
 "cells": [
  {
   "cell_type": "markdown",
   "metadata": {},
   "source": [
    "<!-- <img src=\"pics/CFDS.png\" width=75px>-->\n",
    "<img src=\"../pics/DVFA-Akademie_Logo_800px.jpg\" width=300px>\n",
    "<br>\n",
    "    <p style=\"color:#0E1E5E\">\n",
    "    <b>\n",
    "        <font size=\"6\">CFDS® – Chartered Financial Data Scientist</font>\n",
    "        <br><br>\n",
    "        <font size=\"8\">Introduction to Python</font>\n",
    "    </b>\n",
    "<br><br>\n",
    "<b>\n",
    "    <font size=\"5\"> \n",
    "        Prof. Dr. Natalie Packham <br><br>\n",
    "    </font>\n",
    "</b>\n",
    "</p>"
   ]
  },
  {
   "cell_type": "markdown",
   "metadata": {},
   "source": [
    "# Exercises on Linear Regression"
   ]
  },
  {
   "cell_type": "markdown",
   "metadata": {},
   "source": [
    "__Exercise 1.__ Load the data from the file `hprice.xls` into a data frame. The file contains data on $N = 546$ houses sold in Windsor, Canada. The dependent variable $Y$ is the sales price of the house in Canadian dollars. The explanatory variables included in this data set are:\n",
    "\n",
    "* the lot size of the property (in square feet)\n",
    "* the number of bedrooms\n",
    "* the number of bathrooms\n",
    "* the number of storeys (excluding the basement)\n",
    "* Adummy variable = 1 if house has a driveway (= 0 otherwise)\n",
    "* A dummy variable = 1 if house has a recreation room\n",
    "* A dummy variable = 1 if house has a basement\n",
    "* A dummy variable = 1 if house has gas central heating\n",
    "* A dummy variable = 1 if house has air conditioning \n",
    "* The size of garage (number of cars it will hold)\n",
    "* A dummy variable = 1 if house is in a desirable neighbourhood\n",
    "\n",
    "Conduct a simple regression of saleprice on `#bedroom` and conduct a multiple regression of `saleprice` on `lot size`, `#bedroom`, `#bath` and `#stories`.\n",
    "\n",
    "1. What are the coefficients associated with the number of bedrooms in each regression? Can you explain why they are different?\n",
    "2. What is the $R^2$ in the multiple regression? What is the interpretation? \n",
    "3. Are all coefficients statistically significant? Explain!"
   ]
  },
  {
   "cell_type": "markdown",
   "metadata": {},
   "source": [
    "__Solution.__"
   ]
  },
  {
   "cell_type": "code",
   "execution_count": null,
   "metadata": {},
   "outputs": [],
   "source": [
    "import numpy as np\n",
    "import pandas as pd\n",
    "from pylab import mpl, plt\n",
    "import statsmodels.api as sm\n",
    "plt.style.use('seaborn')\n",
    "\n",
    "hprice = pd.read_excel('./hprice.xls')\n",
    "Y = hprice['sale price']\n",
    "X = hprice['#bedroom']\n",
    "X = sm.add_constant(X)\n",
    "model = sm.OLS(Y,X)\n",
    "results = model.fit()\n",
    "results.summary()\n",
    "\n",
    "X=hprice[['lot size', '#bedroom', '#bath', '#stories']]\n",
    "X = sm.add_constant(X)\n",
    "model = sm.OLS(Y,X)\n",
    "results = model.fit()\n",
    "results.summary()    "
   ]
  },
  {
   "cell_type": "markdown",
   "metadata": {},
   "source": [
    "1. The coefficient associated with the number of bedrooms in the simple regression is 13270 CAD, in the multiple regression the coefficient is 2825 CAD. The coefficient in a regression can be interpreted as the marginal effect of a change in the $x$-variable on the $y$-variable, keeping all other coefficients fixed. In the simple regression, the coefficient measures the marginal effect between houses with fewer bedrooms compared to houses with more bed- rooms: On average, houses with one more bedroom are 13270 CAD more expensive. In the multiple regression we find that on average, houses with one more bedroom, but the same number of bathrooms, the same lot size and the same number of floors cost 2825 CAD more.\n",
    "2. The $R^2$ in the multiple regression is 53.2%, which means that 53.2% of the variance in the sale price data is explained by the regression model.\n",
    "3. All slope coefficients are statistically significant at the 5% level as their $p$-values are smaller than 0.05. The number of bedrooms is not statistically significant at the 1% level."
   ]
  },
  {
   "cell_type": "markdown",
   "metadata": {},
   "source": [
    "__Exercise 2.__ Use the data in `dax_spx.csv` in the following exercises. This data set contains one year of daily DAX and S&P500 index values.\n",
    "\n",
    "The goal of this exercise is to analyse the linear relationship between the DAX and the S&P 500.\n",
    "Load the data set into a DataFrame and add columns with the log returns and create a scatter plot. Perform a linear regression of the DAX log-returns on the S&P log-returns. Comment on the ability of the model to forecast DAX returns. Is the model statistically significant?"
   ]
  },
  {
   "cell_type": "markdown",
   "metadata": {},
   "source": [
    "__Solution.__\n",
    "Note that you must enter your Tiingo token below for the code to run."
   ]
  },
  {
   "cell_type": "code",
   "execution_count": null,
   "metadata": {},
   "outputs": [],
   "source": [
    "# import statements\n",
    "import numpy as np\n",
    "import pandas as pd\n",
    "from pylab import mpl, plt\n",
    "from arch import arch_model\n",
    "import datetime as dt\n",
    "import statsmodels.api as sm\n",
    "plt.style.use('seaborn')\n",
    "\n",
    "# read the data into a dataframe and insert columsn with log returns\n",
    "df = pd.read_csv('./dax_spx.csv', index_col=0)\n",
    "df.insert(2, 'SPX', 100 * np.log(df['SPX Index'] / df['SPX Index'].shift(1)))\n",
    "df.insert(3, 'DAX', 100 * np.log(df['DAX Index'] / df['DAX Index'].shift(1)))\n",
    "df.dropna(inplace=True)\n",
    "\n",
    "# scatter plot\n",
    "plt.scatter(df['SPX'], df['DAX'])\n",
    "\n",
    "# regression model\n",
    "Y=df['DAX']\n",
    "X=df['SPX']\n",
    "X = sm.add_constant(X)\n",
    "model = sm.OLS(Y,X)\n",
    "results = model.fit()\n",
    "\n",
    "print(results.summary())"
   ]
  },
  {
   "cell_type": "markdown",
   "metadata": {},
   "source": [
    "The $R^2$ of 0.213 means that 21.3\\% of the variance in DAX returns\n",
    "are captured by SP returns. This would be considered too low for\n",
    "forecasting.\n",
    "\n",
    "The SPX coefficient is statistically significant at the 1\\% level, so\n",
    "there is evidence that a linear relationship between the two indices\n",
    "is present. "
   ]
  },
  {
   "cell_type": "code",
   "execution_count": null,
   "metadata": {},
   "outputs": [],
   "source": []
  }
 ],
 "metadata": {
  "kernelspec": {
   "display_name": "Python 3",
   "language": "python",
   "name": "python3"
  },
  "language_info": {
   "codemirror_mode": {
    "name": "ipython",
    "version": 3
   },
   "file_extension": ".py",
   "mimetype": "text/x-python",
   "name": "python",
   "nbconvert_exporter": "python",
   "pygments_lexer": "ipython3",
   "version": "3.7.6"
  },
  "toc": {
   "base_numbering": 1,
   "nav_menu": {},
   "number_sections": false,
   "sideBar": true,
   "skip_h1_title": false,
   "title_cell": "Table of Contents",
   "title_sidebar": "Contents",
   "toc_cell": false,
   "toc_position": {
    "height": "calc(100% - 180px)",
    "left": "10px",
    "top": "150px",
    "width": "261.818px"
   },
   "toc_section_display": true,
   "toc_window_display": false
  }
 },
 "nbformat": 4,
 "nbformat_minor": 4
}
