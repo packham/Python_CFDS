{
 "cells": [
  {
   "cell_type": "markdown",
   "metadata": {},
   "source": [
    "<!-- <img src=\"pics/CFDS.png\" width=75px>-->\n",
    "<img src=\"../pics/DVFA-Akademie_Logo_800px.jpg\" width=300px>\n",
    "<br>\n",
    "    <p style=\"color:#0E1E5E\">\n",
    "    <b>\n",
    "        <font size=\"6\">CFDS® – Chartered Financial Data Scientist</font>\n",
    "        <br><br>\n",
    "        <font size=\"8\">Introduction to Python</font>\n",
    "    </b>\n",
    "<br><br>\n",
    "<b>\n",
    "    <font size=\"5\"> \n",
    "        Prof. Dr. Natalie Packham <br><br>\n",
    "    </font>\n",
    "</b>\n",
    "</p>"
   ]
  },
  {
   "cell_type": "markdown",
   "metadata": {},
   "source": [
    "# Exercises on writing functions in Python"
   ]
  },
  {
   "cell_type": "markdown",
   "metadata": {},
   "source": [
    "__Exercise 1.__   Write a function that computes the present value of a growing\n",
    "  annuity:\n",
    "\n",
    "$\n",
    "\\text{PV} = \\displaystyle\\frac{C}{r-g} \\left(1-\\frac{(1+g)^n}{(1+r)^n}\\right),\n",
    "$\n",
    "\n",
    "where $r$ is the discount rate, $g$ is the growth rate, $C$ is the\n",
    "amount paid and $n$ is the number of periods (years).\n",
    "\n",
    "Use the function to calculate the PV of an annuity that pays $100$\n",
    "annually for ten years using a discount rate of 5%."
   ]
  },
  {
   "cell_type": "code",
   "execution_count": null,
   "metadata": {},
   "outputs": [],
   "source": []
  },
  {
   "cell_type": "markdown",
   "metadata": {},
   "source": [
    "__Exercise 2.__   Using the function from the previous exercise, build a mortgage\n",
    "  calculator that prints out the monthly mortgage payment given an\n",
    "  annual percentage rate (note: $r=\\text{APR}/12$), the loan amount and\n",
    "  the number of years (note: $n=\\text{years}\\cdot 12$).\n",
    "\n",
    "  Use the function to calculate the monthly payment on a loan of\n",
    "  EUR ${100,000}$ at an APR of $2.5\\%$.\n",
    "\n",
    "  Verify that the PV is indeed EUR ${100,000}$ by calculating the sum\n",
    "  of the discounted loan payments. "
   ]
  },
  {
   "cell_type": "code",
   "execution_count": null,
   "metadata": {},
   "outputs": [],
   "source": []
  }
 ],
 "metadata": {
  "kernelspec": {
   "display_name": "Python 3",
   "language": "python",
   "name": "python3"
  },
  "language_info": {
   "codemirror_mode": {
    "name": "ipython",
    "version": 3
   },
   "file_extension": ".py",
   "mimetype": "text/x-python",
   "name": "python",
   "nbconvert_exporter": "python",
   "pygments_lexer": "ipython3",
   "version": "3.7.6"
  },
  "toc": {
   "base_numbering": 1,
   "nav_menu": {},
   "number_sections": false,
   "sideBar": true,
   "skip_h1_title": false,
   "title_cell": "Table of Contents",
   "title_sidebar": "Contents",
   "toc_cell": false,
   "toc_position": {},
   "toc_section_display": true,
   "toc_window_display": false
  }
 },
 "nbformat": 4,
 "nbformat_minor": 4
}
