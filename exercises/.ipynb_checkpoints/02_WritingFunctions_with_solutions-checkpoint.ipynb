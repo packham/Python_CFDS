{
 "cells": [
  {
   "cell_type": "markdown",
   "metadata": {},
   "source": [
    "<!-- <img src=\"pics/CFDS.png\" width=75px>-->\n",
    "<img src=\"../pics/DVFA-Akademie_Logo_800px.jpg\" width=300px>\n",
    "<br>\n",
    "    <p style=\"color:#0E1E5E\">\n",
    "    <b>\n",
    "        <font size=\"6\">CFDS® – Chartered Financial Data Scientist</font>\n",
    "        <br><br>\n",
    "        <font size=\"8\">Introduction to Python</font>\n",
    "    </b>\n",
    "<br><br>\n",
    "<b>\n",
    "    <font size=\"5\"> \n",
    "        Prof. Dr. Natalie Packham <br><br>\n",
    "    </font>\n",
    "</b>\n",
    "</p>"
   ]
  },
  {
   "cell_type": "markdown",
   "metadata": {},
   "source": [
    "# Exercises on writing functions in Python"
   ]
  },
  {
   "cell_type": "markdown",
   "metadata": {},
   "source": [
    "__Exercise 1.__   Write a function that computes the present value of a growing\n",
    "  annuity:\n",
    "\n",
    "$\n",
    "\\text{PV} = \\displaystyle\\frac{C}{r-g} \\left(1-\\frac{(1+g)^n}{(1+r)^n}\\right),\n",
    "$\n",
    "\n",
    "where $r$ is the discount rate, $g$ is the growth rate, $C$ is the\n",
    "amount paid and $n$ is the number of periods (years).\n",
    "\n",
    "Use the function to calculate the PV of an annuity that pays $100$\n",
    "annually for ten years using a discount rate of 5%."
   ]
  },
  {
   "cell_type": "markdown",
   "metadata": {},
   "source": [
    "__Solution.__"
   ]
  },
  {
   "cell_type": "code",
   "execution_count": 1,
   "metadata": {},
   "outputs": [],
   "source": [
    "def annuity(r, g, C, n):\n",
    "    return C/(r-g) * (1 - (1+g)**n / (1+r)**n)"
   ]
  },
  {
   "cell_type": "code",
   "execution_count": 2,
   "metadata": {},
   "outputs": [
    {
     "data": {
      "text/plain": [
       "772.1734929184818"
      ]
     },
     "execution_count": 2,
     "metadata": {},
     "output_type": "execute_result"
    }
   ],
   "source": [
    "annuity(0.05, 0, 100,10)"
   ]
  },
  {
   "cell_type": "markdown",
   "metadata": {},
   "source": [
    "__Exercise 2.__   Using the function from the previous exercise, build a mortgage\n",
    "  calculator that prints out the monthly mortgage payment given an\n",
    "  annual percentage rate (note: $r=\\text{APR}/12$), the loan amount and\n",
    "  the number of years (note: $n=\\text{years}\\cdot 12$).\n",
    "\n",
    "  Use the function to calculate the monthly payment on a loan of\n",
    "  EUR ${100,000}$ at an APR of $2.5\\%$.\n",
    "\n",
    "  Verify that the PV is indeed EUR ${100,000}$ by calculating the sum\n",
    "  of the discounted loan payments. "
   ]
  },
  {
   "cell_type": "markdown",
   "metadata": {},
   "source": [
    "__Solution.__"
   ]
  },
  {
   "cell_type": "code",
   "execution_count": 3,
   "metadata": {},
   "outputs": [],
   "source": [
    "def mortgage(r, g, N, n):\n",
    "    return N / annuity(r/12,0,1,12*n)"
   ]
  },
  {
   "cell_type": "code",
   "execution_count": 4,
   "metadata": {},
   "outputs": [
    {
     "data": {
      "text/plain": [
       "942.6990170396044"
      ]
     },
     "execution_count": 4,
     "metadata": {},
     "output_type": "execute_result"
    }
   ],
   "source": [
    "mortgage(0.025, 0, 100000, 10)"
   ]
  },
  {
   "cell_type": "markdown",
   "metadata": {},
   "source": [
    "Verify that this is indeed the solution:"
   ]
  },
  {
   "cell_type": "code",
   "execution_count": 5,
   "metadata": {},
   "outputs": [
    {
     "name": "stdout",
     "output_type": "stream",
     "text": [
      "100000.00000003698\n"
     ]
    }
   ],
   "source": [
    "pv=0;\n",
    "for i in range(1,12*10+1):\n",
    "    pv += 942.69901704/(1+0.025/12)**i\n",
    "    \n",
    "print(pv)"
   ]
  }
 ],
 "metadata": {
  "kernelspec": {
   "display_name": "Python 3",
   "language": "python",
   "name": "python3"
  },
  "language_info": {
   "codemirror_mode": {
    "name": "ipython",
    "version": 3
   },
   "file_extension": ".py",
   "mimetype": "text/x-python",
   "name": "python",
   "nbconvert_exporter": "python",
   "pygments_lexer": "ipython3",
   "version": "3.7.6"
  },
  "toc": {
   "base_numbering": 1,
   "nav_menu": {},
   "number_sections": false,
   "sideBar": true,
   "skip_h1_title": false,
   "title_cell": "Table of Contents",
   "title_sidebar": "Contents",
   "toc_cell": false,
   "toc_position": {},
   "toc_section_display": true,
   "toc_window_display": false
  }
 },
 "nbformat": 4,
 "nbformat_minor": 4
}
