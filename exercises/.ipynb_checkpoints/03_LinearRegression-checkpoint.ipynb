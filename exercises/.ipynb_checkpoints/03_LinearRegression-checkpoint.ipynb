{
 "cells": [
  {
   "cell_type": "markdown",
   "metadata": {},
   "source": [
    "<!-- <img src=\"pics/CFDS.png\" width=75px>-->\n",
    "<img src=\"../pics/DVFA-Akademie_Logo_800px.jpg\" width=300px>\n",
    "<br>\n",
    "    <p style=\"color:#0E1E5E\">\n",
    "    <b>\n",
    "        <font size=\"6\">CFDS® – Chartered Financial Data Scientist</font>\n",
    "        <br><br>\n",
    "        <font size=\"8\">Introduction to Python</font>\n",
    "    </b>\n",
    "<br><br>\n",
    "<b>\n",
    "    <font size=\"5\"> \n",
    "        Prof. Dr. Natalie Packham <br><br>\n",
    "    </font>\n",
    "</b>\n",
    "</p>"
   ]
  },
  {
   "cell_type": "markdown",
   "metadata": {},
   "source": [
    "# Exercises on Linear Regression"
   ]
  },
  {
   "cell_type": "markdown",
   "metadata": {},
   "source": [
    "__Exercise 1.__ Load the data from the file `hprice.xls` into a data frame. The file contains data on $N = 546$ houses sold in Windsor, Canada. The dependent variable $Y$ is the sales price of the house in Canadian dollars. The explanatory variables included in this data set are:\n",
    "\n",
    "* the lot size of the property (in square feet)\n",
    "* the number of bedrooms\n",
    "* the number of bathrooms\n",
    "* the number of storeys (excluding the basement)\n",
    "* Adummy variable = 1 if house has a driveway (= 0 otherwise)\n",
    "* A dummy variable = 1 if house has a recreation room\n",
    "* A dummy variable = 1 if house has a basement\n",
    "* A dummy variable = 1 if house has gas central heating\n",
    "* A dummy variable = 1 if house has air conditioning \n",
    "* The size of garage (number of cars it will hold)\n",
    "* A dummy variable = 1 if house is in a desirable neighbourhood\n",
    "\n",
    "Conduct a simple regression of saleprice on `#bedroom` and conduct a multiple regression of `saleprice` on `lot size`, `#bedroom`, `#bath` and `#stories`.\n",
    "\n",
    "1. What are the coefficients associated with the number of bedrooms in each regression? Can you explain why they are different?\n",
    "2. What is the $R^2$ in the multiple regression? What is the interpretation? \n",
    "3. Are all coefficients statistically significant? Explain!"
   ]
  },
  {
   "cell_type": "code",
   "execution_count": null,
   "metadata": {},
   "outputs": [],
   "source": []
  },
  {
   "cell_type": "markdown",
   "metadata": {},
   "source": [
    "__Exercise 2.__ Use the data in `dax_spx.csv` in the following exercises. This data set contains one year of daily DAX and S&P500 index values.\n",
    "\n",
    "The goal of this exercise is to analyse the linear relationship between the DAX and the S&P 500.\n",
    "Load the data set into a DataFrame and add columns with the log returns and create a scatter plot. Perform a linear regression of the DAX log-returns on the S&P log-returns. Comment on the ability of the model to forecast DAX returns. Is the model statistically significant?"
   ]
  },
  {
   "cell_type": "code",
   "execution_count": null,
   "metadata": {},
   "outputs": [],
   "source": []
  }
 ],
 "metadata": {
  "kernelspec": {
   "display_name": "Python 3",
   "language": "python",
   "name": "python3"
  },
  "language_info": {
   "codemirror_mode": {
    "name": "ipython",
    "version": 3
   },
   "file_extension": ".py",
   "mimetype": "text/x-python",
   "name": "python",
   "nbconvert_exporter": "python",
   "pygments_lexer": "ipython3",
   "version": "3.7.6"
  },
  "toc": {
   "base_numbering": 1,
   "nav_menu": {},
   "number_sections": false,
   "sideBar": true,
   "skip_h1_title": false,
   "title_cell": "Table of Contents",
   "title_sidebar": "Contents",
   "toc_cell": false,
   "toc_position": {
    "height": "calc(100% - 180px)",
    "left": "10px",
    "top": "150px",
    "width": "261.818px"
   },
   "toc_section_display": true,
   "toc_window_display": false
  }
 },
 "nbformat": 4,
 "nbformat_minor": 4
}
