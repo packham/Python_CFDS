{
 "cells": [
  {
   "cell_type": "markdown",
   "metadata": {},
   "source": [
    "<!-- <img src=\"pics/CFDS.png\" width=75px>-->\n",
    "<img src=\"../pics/DVFA-Akademie_Logo_800px.jpg\" width=300px>\n",
    "<br>\n",
    "    <p style=\"color:#0E1E5E\">\n",
    "    <b>\n",
    "        <font size=\"6\">CFDS® – Chartered Financial Data Scientist</font>\n",
    "        <br><br>\n",
    "        <font size=\"8\">Introduction to Python</font>\n",
    "    </b>\n",
    "<br><br>\n",
    "<b>\n",
    "    <font size=\"5\"> \n",
    "        Prof. Dr. Natalie Packham <br><br>\n",
    "    </font>\n",
    "</b>\n",
    "</p>"
   ]
  },
  {
   "cell_type": "markdown",
   "metadata": {},
   "source": [
    "# Exercise on $k$-means clustering"
   ]
  },
  {
   "cell_type": "markdown",
   "metadata": {},
   "source": [
    "### Machine Learning\n",
    "* Machine Learning methods are split into:\n",
    "   * unsupervised learning, and\n",
    "   * supervised learning.\n",
    "* Machine Learning problems are split into: \n",
    "   * regression, and\n",
    "   * classification.\n",
    "* Python offers a number of libraries for Machine Learning:\n",
    "   * `scikit-learn` <http://scikit-learn.org>\n",
    "   * `TensorFlow` <http://tensorflow.org>"
   ]
  },
  {
   "cell_type": "markdown",
   "metadata": {},
   "source": [
    "In previous examples we investigated supervised learning algorithms in a regression setting (Ridge regression, Lasso, Elastic net) and in a classification setting (Logistic regression) as well as unsupervised learning algorithms in a regression setting (Principal component analysis). \n",
    "\n",
    "The following exercise is an example of unsupervised learning in a classification setting."
   ]
  },
  {
   "cell_type": "markdown",
   "metadata": {},
   "source": [
    "### Unsupervised learning\n",
    "* The principal idea of unsupervised learning is to extract information from data without any guidance or feedback.\n",
    "* A typical appication is **clustering** (a classification problem).\n",
    "* One such algorithm is $k$-means clustering, which cluster data into $k$ subsets, called clusters."
   ]
  },
  {
   "cell_type": "markdown",
   "metadata": {},
   "source": [
    "### $k$-means clustering\n",
    "* Here is how it works (see Section 10.3 of James et al., 2013):\n",
    "* Let $x_1, x_2, \\ldots, x_n$ denote the sample of points. \n",
    "* Let $C_1, \\ldots, C_k$ denote sets containing the indices of the observations in each cluster.\n",
    "* They must satisfy the following two properties: \n",
    "* Each observation belongs to at least one cluster: $C_1\\cup C_2\\cup\\cdots \\cup C_k=\\{1, \\ldots, n\\}$. \n",
    "* Each observation belongs to no more than one cluster: $C_i\\cap C_j$ for all $i,j\\in \\{1,\\ldots, k\\}$. \n",
    "* The goal is to find $k$ cluster that minimise *within-cluster-variation*.\n",
    "* This is achieved by minimising least-square-distances (see James et al. for details).\n",
    "\n",
    "$k$-means clustering therefore determines $k$ clusters $C_1, \\ldots, C_k$ and assigns each point $x_i$ to exactly one cluster. "
   ]
  },
  {
   "cell_type": "markdown",
   "metadata": {},
   "source": [
    "* `scikit-learn` allows the creation of sample data sets for different types of ML problems. \n",
    "* Here we create a sample data set to illustrate $k$-means clustering."
   ]
  },
  {
   "cell_type": "code",
   "execution_count": null,
   "metadata": {},
   "outputs": [],
   "source": [
    "import numpy as np\n",
    "import scipy as sp\n",
    "import matplotlib.pyplot as plt"
   ]
  },
  {
   "cell_type": "code",
   "execution_count": null,
   "metadata": {},
   "outputs": [],
   "source": [
    "from sklearn.datasets import make_blobs"
   ]
  },
  {
   "cell_type": "code",
   "execution_count": null,
   "metadata": {},
   "outputs": [],
   "source": [
    "X, y = make_blobs(n_samples=250, centers=4, random_state=500, cluster_std=1.25) # create a sample data set with 250 samples and 4 clusters"
   ]
  },
  {
   "cell_type": "code",
   "execution_count": null,
   "metadata": {},
   "outputs": [],
   "source": [
    "plt.figure(figsize=(10,6))\n",
    "plt.scatter(X[:,0], X[:,1], s=50);"
   ]
  },
  {
   "cell_type": "markdown",
   "metadata": {},
   "source": [
    "__Exercise 1.__ Using the class ``sklearn.cluster.KMeans`` \n",
    "\n",
    "(https://scikit-learn.org/stable/modules/generated/sklearn.cluster.KMeans.html)\n",
    "\n",
    "create a ``KMeans`` model with 4 clusters and fit the data in ``X`` to the model. \n",
    "\n",
    "Use ``predict`` to asssign each point to its cluster. \n",
    "\n",
    "Generate a scatter plot (``plt.scatter``) which colour codes the clusters (see option ``c`` in ``scatter``). "
   ]
  },
  {
   "cell_type": "markdown",
   "metadata": {},
   "source": [
    "__Solution.__"
   ]
  },
  {
   "cell_type": "code",
   "execution_count": null,
   "metadata": {},
   "outputs": [],
   "source": [
    "from sklearn.cluster import KMeans # import model class"
   ]
  },
  {
   "cell_type": "code",
   "execution_count": null,
   "metadata": {},
   "outputs": [],
   "source": [
    "model = KMeans(n_clusters=4, random_state=0) # instantiate the model\n",
    "model.fit(X) # fit the model"
   ]
  },
  {
   "cell_type": "code",
   "execution_count": null,
   "metadata": {},
   "outputs": [],
   "source": [
    "# predict the cluster (number) for each sample in the raw data\n",
    "y_kmeans=model.predict(X)\n",
    "y_kmeans[:12] # some cluster (numbers)"
   ]
  },
  {
   "cell_type": "code",
   "execution_count": null,
   "metadata": {},
   "outputs": [],
   "source": [
    "# plot the data with one colour per cluster\n",
    "plt.figure(figsize=(10,6))\n",
    "plt.scatter(X[:,0], X[:,1], c=y_kmeans, cmap='coolwarm');"
   ]
  }
 ],
 "metadata": {
  "kernelspec": {
   "display_name": "Python 3 (ipykernel)",
   "language": "python",
   "name": "python3"
  },
  "language_info": {
   "codemirror_mode": {
    "name": "ipython",
    "version": 3
   },
   "file_extension": ".py",
   "mimetype": "text/x-python",
   "name": "python",
   "nbconvert_exporter": "python",
   "pygments_lexer": "ipython3",
   "version": "3.11.4"
  },
  "toc": {
   "base_numbering": 1,
   "nav_menu": {},
   "number_sections": false,
   "sideBar": true,
   "skip_h1_title": false,
   "title_cell": "Table of Contents",
   "title_sidebar": "Contents",
   "toc_cell": false,
   "toc_position": {},
   "toc_section_display": true,
   "toc_window_display": false
  }
 },
 "nbformat": 4,
 "nbformat_minor": 4
}
