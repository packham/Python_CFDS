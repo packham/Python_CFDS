{
 "cells": [
  {
   "cell_type": "markdown",
   "metadata": {},
   "source": [
    "<!-- <img src=\"pics/CFDS.png\" width=75px>-->\n",
    "<img src=\"../pics/DVFA-Akademie_Logo_800px.jpg\" width=300px>\n",
    "<br>\n",
    "    <p style=\"color:#0E1E5E\">\n",
    "    <b>\n",
    "        <font size=\"6\">CFDS® – Chartered Financial Data Scientist</font>\n",
    "        <br><br>\n",
    "        <font size=\"8\">Introduction to Python</font>\n",
    "    </b>\n",
    "<br><br>\n",
    "<b>\n",
    "    <font size=\"5\"> \n",
    "        Prof. Dr. Natalie Packham <br><br>\n",
    "    </font>\n",
    "</b>\n",
    "</p>"
   ]
  },
  {
   "cell_type": "markdown",
   "metadata": {},
   "source": [
    "# Exercises on loading financial data from the Internet"
   ]
  },
  {
   "cell_type": "markdown",
   "metadata": {},
   "source": [
    "These exercises require that you sign up on Tiingo, https://api.tiingo.com, and obtain an __API Key__, sometimes also called __Token__.\n",
    "Once logged in, your API token is available at https://api.tiingo.com/account/api/token.\n"
   ]
  },
  {
   "cell_type": "markdown",
   "metadata": {},
   "source": [
    "__Exercise 1.__ Install the tiingo library with \n",
    "\n",
    "`pip install tiingo`\n",
    "\n",
    "\n",
    "Create a pandas data frame with one year of daily close prices of Microsoft, Tesla and Google. You may find the documentation useful: https://github.com/hydrosquall/tiingo-python.\n"
   ]
  },
  {
   "cell_type": "markdown",
   "metadata": {},
   "source": [
    "__Solution.__\n",
    "Note that you must enter your Tiingo token below for the code to run."
   ]
  },
  {
   "cell_type": "code",
   "execution_count": null,
   "metadata": {},
   "outputs": [],
   "source": [
    "    from tiingo import TiingoClient\n",
    "    config = {}\n",
    "    config['session'] = True\n",
    "    config['api_key'] = '<your Tiingo API token here>'\n",
    "\n",
    "    client = TiingoClient(config)\n",
    "    tickers=['MSFT','TSLA','GOOG']\n",
    "\n",
    "    prices = client.get_dataframe(tickers, frequency='daily', metric_name='adjClose', startDate='2020-05-26', endDate='2021-05-27')\n",
    "    prices"
   ]
  },
  {
   "cell_type": "markdown",
   "metadata": {},
   "source": [
    "__Exercise 2.__ You can also access the API without installing any additional packages. This is done with the requests library:\n",
    "\n",
    "`import requests`\n",
    "\n",
    "Create a data frame with Apple’s daily closing prices of the last year.\n",
    "Examples for connecting are in the API documentation at https://api.tiingo.com/documentation/ general/overview. \n",
    "\n",
    "You may find the folllowing pages useful for this exercise:\n",
    "\n",
    "* https://api.tiingo.com/documentation/general/connecting \n",
    "* https://api.tiingo.com/documentation/end-of-day"
   ]
  },
  {
   "cell_type": "markdown",
   "metadata": {},
   "source": [
    "__Solution.__\n",
    "Note that you must enter your Tiingo token below for the code to run."
   ]
  },
  {
   "cell_type": "code",
   "execution_count": null,
   "metadata": {},
   "outputs": [],
   "source": [
    "import requests\n",
    "  \n",
    "headers = {\n",
    "   'Content-Type': 'application/json',\n",
    "   'Authorization': 'Token <your Tiingo API token here>'\n",
    "}\n",
    "requestResponse = requests.get(\"https://api.tiingo.com/tiingo/daily/aapl/prices?startDate=2019-01-02\", headers=headers)\n",
    "df=pd.DataFrame(requestResponse.json())\n",
    "df.set_index('date', inplace=True)\n",
    "df.head()"
   ]
  }
 ],
 "metadata": {
  "kernelspec": {
   "display_name": "Python 3",
   "language": "python",
   "name": "python3"
  },
  "language_info": {
   "codemirror_mode": {
    "name": "ipython",
    "version": 3
   },
   "file_extension": ".py",
   "mimetype": "text/x-python",
   "name": "python",
   "nbconvert_exporter": "python",
   "pygments_lexer": "ipython3",
   "version": "3.7.6"
  },
  "toc": {
   "base_numbering": 1,
   "nav_menu": {},
   "number_sections": false,
   "sideBar": true,
   "skip_h1_title": false,
   "title_cell": "Table of Contents",
   "title_sidebar": "Contents",
   "toc_cell": false,
   "toc_position": {},
   "toc_section_display": true,
   "toc_window_display": false
  }
 },
 "nbformat": 4,
 "nbformat_minor": 4
}
