{
 "cells": [
  {
   "cell_type": "markdown",
   "metadata": {
    "hideCode": false,
    "hidePrompt": false,
    "slideshow": {
     "slide_type": "slide"
    }
   },
   "source": [
    "<!-- <img src=\"pics/CFDS.png\" width=75px>-->\n",
    "<img src=\"pics/DVFA-Akademie_Logo_800px.jpg\" width=300px>\n",
    "<br>\n",
    "    <p style=\"color:#0E1E5E\">\n",
    "    <b>\n",
    "        <font size=\"6\">CFDS® – Chartered Financial Data Scientist</font>\n",
    "        <br><br>\n",
    "        <font size=\"8\">Introduction to Python</font>\n",
    "    </b>\n",
    "<br><br>\n",
    "<b>\n",
    "    <font size=\"5\"> \n",
    "        Prof. Dr. Natalie Packham <br><br>\n",
    "        13 December 2023\n",
    "    </font>\n",
    "</b>\n",
    "</p>"
   ]
  },
  {
   "cell_type": "markdown",
   "metadata": {
    "hideCode": false,
    "hideOutput": false,
    "hidePrompt": false,
    "slideshow": {
     "slide_type": "slide"
    }
   },
   "source": [
    "<h1>Table of Contents<span class=\"tocSkip\"></span></h1>\n",
    "<div class=\"toc\"><ul class=\"toc-item\"><li><span><a href=\"#Financial-Time-Series\" data-toc-modified-id=\"Financial-Time-Series-4\"><span class=\"toc-item-num\">4&nbsp;&nbsp;</span>Financial Time Series</a></span><ul class=\"toc-item\"><li><span><a href=\"#Financial-Data\" data-toc-modified-id=\"Financial-Data-4.1\"><span class=\"toc-item-num\">4.1&nbsp;&nbsp;</span>Financial Data</a></span></li><li><span><a href=\"#Correlation-analysis-and-linear-regression\" data-toc-modified-id=\"Correlation-analysis-and-linear-regression-4.2\"><span class=\"toc-item-num\">4.2&nbsp;&nbsp;</span>Correlation analysis and linear regression</a></span></li></ul></li></ul></div>"
   ]
  },
  {
   "cell_type": "markdown",
   "metadata": {
    "hideCode": false,
    "hidePrompt": false,
    "slideshow": {
     "slide_type": "slide"
    }
   },
   "source": [
    "# Financial Time Series"
   ]
  },
  {
   "cell_type": "markdown",
   "metadata": {
    "hideCode": false,
    "hidePrompt": false,
    "slideshow": {
     "slide_type": "subslide"
    }
   },
   "source": [
    "* Time series are ubiquitous in finance. \n",
    "* `pandas` is the main library in Python to deal with time series. "
   ]
  },
  {
   "cell_type": "markdown",
   "metadata": {
    "hideCode": false,
    "hidePrompt": false,
    "slideshow": {
     "slide_type": "slide"
    }
   },
   "source": [
    "## Financial Data"
   ]
  },
  {
   "cell_type": "markdown",
   "metadata": {
    "hideCode": false,
    "hidePrompt": false,
    "slideshow": {
     "slide_type": "subslide"
    }
   },
   "source": [
    "### Financial data\n",
    "\n",
    "* For the time being we work with locally stored data files.\n",
    "* These are in `.csv`-files (comma-separated values), where the data entries in each row are separated by commas. \n",
    "* Some initialisation:"
   ]
  },
  {
   "cell_type": "code",
   "execution_count": null,
   "metadata": {
    "hideCode": false,
    "hidePrompt": false
   },
   "outputs": [],
   "source": [
    "import numpy as np\n",
    "import pandas as pd\n",
    "import matplotlib.pyplot as plt \n",
    "plt.style.use('seaborn')\n",
    "plt.rcParams['font.family'] = 'serif'"
   ]
  },
  {
   "cell_type": "markdown",
   "metadata": {
    "hideCode": false,
    "hidePrompt": false,
    "slideshow": {
     "slide_type": "subslide"
    }
   },
   "source": [
    "### Data import\n",
    "* `pandas` provides a numer of different functions and `DataFrame` methods for importing and exporting data.\n",
    "* Here we use `pd.read_csv()`.\n",
    "* The file that we load contains end-of-day data for different financial instruments retrieved from Thomson Reuters. "
   ]
  },
  {
   "cell_type": "code",
   "execution_count": null,
   "metadata": {
    "hideCode": false,
    "hidePrompt": false
   },
   "outputs": [],
   "source": [
    "# If using colab, then uncomment the line below and comment the line after that\n",
    "#filename = 'https://raw.githubusercontent.com/packham/Python_CFDS/main/data/tr_eikon_eod_data.csv'\n",
    "filename = './data/tr_eikon_eod_data.csv' # path and filename\n",
    "f = open(filename, 'r') # this will give an error when using colab; just ignore it\n",
    "f.readlines()[:5]  # show first five lines"
   ]
  },
  {
   "cell_type": "markdown",
   "metadata": {
    "hideCode": false,
    "hidePrompt": false,
    "slideshow": {
     "slide_type": "subslide"
    }
   },
   "source": [
    "### Data import"
   ]
  },
  {
   "cell_type": "code",
   "execution_count": null,
   "metadata": {
    "hideCode": false,
    "hidePrompt": false
   },
   "outputs": [],
   "source": [
    "data = pd.read_csv(filename,  # import csv-data into DataFrame\n",
    "                   index_col=0, # take first column as index\n",
    "                   parse_dates=True)  # index values are datetime"
   ]
  },
  {
   "cell_type": "code",
   "execution_count": null,
   "metadata": {
    "hideCode": false,
    "hidePrompt": false
   },
   "outputs": [],
   "source": [
    "data.info()  # information about the DataFrame object"
   ]
  },
  {
   "cell_type": "markdown",
   "metadata": {
    "hideCode": false,
    "hidePrompt": false,
    "slideshow": {
     "slide_type": "subslide"
    }
   },
   "source": [
    "### Data import"
   ]
  },
  {
   "cell_type": "code",
   "execution_count": null,
   "metadata": {
    "hideCode": false,
    "hidePrompt": false
   },
   "outputs": [],
   "source": [
    "data.head()  "
   ]
  },
  {
   "cell_type": "markdown",
   "metadata": {
    "hideCode": false,
    "hidePrompt": false,
    "slideshow": {
     "slide_type": "subslide"
    }
   },
   "source": [
    "### Data import"
   ]
  },
  {
   "cell_type": "code",
   "execution_count": null,
   "metadata": {
    "hideCode": false,
    "hidePrompt": false
   },
   "outputs": [],
   "source": [
    "data.tail()  "
   ]
  },
  {
   "cell_type": "markdown",
   "metadata": {
    "hideCode": false,
    "hidePrompt": false,
    "slideshow": {
     "slide_type": "subslide"
    }
   },
   "source": [
    "### Data import"
   ]
  },
  {
   "cell_type": "code",
   "execution_count": null,
   "metadata": {
    "hideCode": false,
    "hidePrompt": false
   },
   "outputs": [],
   "source": [
    "data.plot(figsize=(10, 10), subplots=True);  "
   ]
  },
  {
   "cell_type": "markdown",
   "metadata": {
    "hideCode": false,
    "hidePrompt": false,
    "slideshow": {
     "slide_type": "subslide"
    }
   },
   "source": [
    "### Data import\n",
    "\n",
    "* The identifiers used by Thomson Reuters are so-called RIC's. \n",
    "* The financial instruments in the data set are:"
   ]
  },
  {
   "cell_type": "code",
   "execution_count": null,
   "metadata": {
    "hideCode": false,
    "hidePrompt": false
   },
   "outputs": [],
   "source": [
    "instruments = ['Apple Stock', 'Microsoft Stock',\n",
    "               'Intel Stock', 'Amazon Stock', 'Goldman Sachs Stock',\n",
    "               'SPDR S&P 500 ETF Trust', 'S&P 500 Index',\n",
    "               'VIX Volatility Index', 'EUR/USD Exchange Rate',\n",
    "               'Gold Price', 'VanEck Vectors Gold Miners ETF',\n",
    "               'SPDR Gold Trust']"
   ]
  },
  {
   "cell_type": "markdown",
   "metadata": {
    "hideCode": false,
    "hidePrompt": false,
    "slideshow": {
     "slide_type": "subslide"
    }
   },
   "source": [
    "### Data import"
   ]
  },
  {
   "cell_type": "markdown",
   "metadata": {},
   "source": [
    "Reminder: in-class exercise 5 (zip)"
   ]
  },
  {
   "cell_type": "code",
   "execution_count": null,
   "metadata": {
    "hideCode": false,
    "hidePrompt": false
   },
   "outputs": [],
   "source": [
    "for ric, name in zip(data.columns, instruments):\n",
    "    print('{:8s} | {}'.format(ric, name))"
   ]
  },
  {
   "cell_type": "markdown",
   "metadata": {
    "hideCode": false,
    "hidePrompt": false,
    "slideshow": {
     "slide_type": "subslide"
    }
   },
   "source": [
    "### Summary statistics"
   ]
  },
  {
   "cell_type": "code",
   "execution_count": null,
   "metadata": {
    "hideCode": false,
    "hidePrompt": false
   },
   "outputs": [],
   "source": [
    "data.describe().round(2)  "
   ]
  },
  {
   "cell_type": "markdown",
   "metadata": {
    "hideCode": false,
    "hidePrompt": false,
    "slideshow": {
     "slide_type": "subslide"
    }
   },
   "source": [
    "### Summary statistics\n",
    "* The `aggregate()`-function allows to customise the statistics viewed:"
   ]
  },
  {
   "cell_type": "code",
   "execution_count": null,
   "metadata": {
    "hideCode": false,
    "hidePrompt": false
   },
   "outputs": [],
   "source": [
    "data.aggregate([min,  \n",
    "                np.mean,  \n",
    "                np.std,  \n",
    "                np.median,  \n",
    "                max]  \n",
    ").round(2)"
   ]
  },
  {
   "cell_type": "markdown",
   "metadata": {
    "hideCode": false,
    "hidePrompt": false,
    "slideshow": {
     "slide_type": "subslide"
    }
   },
   "source": [
    "### Returns\n",
    "* When working with financial data we typically (=always - you must have good reasons to deviate from this) work with performance data, i.e., __returns__. \n",
    "* Reasoning: \n",
    "     * Historical data are mainly used to make forecasts one or several time periods forward. \n",
    "     * The daily average stock price over the last eight years is meaningless to make a forecast for tomorrow's stock price. \n",
    "     * However, the daily returns are possible scenarios for the next time period(s). \n",
    "* The function `pct_change()` calculates discrete returns: \n",
    "$$r_t^{\\rm d}=\\frac{S_{t}-S_{t-1}}{S_{t-1}},$$\n",
    "     where $S_t$ denotes the stock price at time $t$. "
   ]
  },
  {
   "cell_type": "markdown",
   "metadata": {
    "hideCode": false,
    "hidePrompt": false,
    "slideshow": {
     "slide_type": "subslide"
    }
   },
   "source": [
    "### Returns"
   ]
  },
  {
   "cell_type": "code",
   "execution_count": null,
   "metadata": {
    "hideCode": false,
    "hidePrompt": false
   },
   "outputs": [],
   "source": [
    "data.pct_change().round(3).head()  "
   ]
  },
  {
   "cell_type": "markdown",
   "metadata": {
    "hideCode": false,
    "hidePrompt": false,
    "slideshow": {
     "slide_type": "subslide"
    }
   },
   "source": [
    "### Returns"
   ]
  },
  {
   "cell_type": "code",
   "execution_count": null,
   "metadata": {
    "hideCode": false,
    "hidePrompt": false
   },
   "outputs": [],
   "source": [
    "data.pct_change().mean().plot(kind='bar', figsize=(10, 6));  "
   ]
  },
  {
   "cell_type": "markdown",
   "metadata": {
    "hideCode": false,
    "hidePrompt": false,
    "slideshow": {
     "slide_type": "subslide"
    }
   },
   "source": [
    "### Returns\n",
    "* In finance, __log-returns__, also called __continuous returns__, are often preferred over discrete returns: \n",
    "$r_t^{\\rm c} = \\ln\\left(\\frac{S_t}{S_{t-1}}\\right).$\n",
    "* The main reason is that log-return are additive over time. \n",
    "* For example, the log-return from $t-1$ to $t+1$ is the sum of the single-period log-returns: \n",
    "$$r_{t-1,t+1}^{\\rm c} = \\ln \\left(\\frac{S_{t+1}}{S_t}\\right) + \\ln \\left(\\frac{S_t}{S_{t-1}}\\right) = \\ln\\left(\\frac{S_{t+1}}{S_t}\\cdot \\frac{S_t}{S_{t-1}}\\right) = \\ln\\left(\\frac{S_{t+1}}{S_{t-1}}\\right).$$\n",
    "* Note: If the sampling (time) interval is small (e.g. one day or one week), then the difference between discrete returns and log-returns is negligible. "
   ]
  },
  {
   "cell_type": "markdown",
   "metadata": {
    "hideCode": false,
    "hidePrompt": false,
    "slideshow": {
     "slide_type": "subslide"
    }
   },
   "source": [
    "### Returns"
   ]
  },
  {
   "cell_type": "code",
   "execution_count": null,
   "metadata": {
    "hideCode": false,
    "hidePrompt": false
   },
   "outputs": [],
   "source": [
    "rets = np.log(data / data.shift(1))  # calculates log-returns in a vectorised way"
   ]
  },
  {
   "cell_type": "code",
   "execution_count": null,
   "metadata": {
    "hideCode": false,
    "hidePrompt": false
   },
   "outputs": [],
   "source": [
    "rets.head().round(3)  "
   ]
  },
  {
   "cell_type": "markdown",
   "metadata": {
    "hideCode": false,
    "hidePrompt": false,
    "slideshow": {
     "slide_type": "subslide"
    }
   },
   "source": [
    "### Returns"
   ]
  },
  {
   "cell_type": "code",
   "execution_count": null,
   "metadata": {
    "hideCode": false,
    "hidePrompt": false
   },
   "outputs": [],
   "source": [
    "rets.cumsum().apply(np.exp).plot(figsize=(10, 6));  # recover price paths from log-returns"
   ]
  },
  {
   "cell_type": "markdown",
   "metadata": {
    "hideCode": false,
    "hidePrompt": false,
    "slideshow": {
     "slide_type": "slide"
    }
   },
   "source": [
    "## Correlation analysis and linear regression\n",
    "* To further illustrate how to work with financial time series we consider the S&P 500 stock index and the VIX volatility index. \n",
    "* Empirical stylised fact: As the S&P 500 rises, the VIX falls, and vice versa. \n",
    "* Note: This is about __correlation__ not __causation__. "
   ]
  },
  {
   "cell_type": "markdown",
   "metadata": {
    "hideCode": false,
    "hidePrompt": false,
    "slideshow": {
     "slide_type": "subslide"
    }
   },
   "source": [
    "### Correlation analysis"
   ]
  },
  {
   "cell_type": "code",
   "execution_count": null,
   "metadata": {
    "hideCode": false,
    "hidePrompt": false
   },
   "outputs": [],
   "source": [
    "# EOD data from Thomson Reuters Eikon Data API\n",
    "\n",
    "# If using colab, then uncomment the line below and comment the line after that\n",
    "#raw = pd.read_csv('https://raw.githubusercontent.com/packham/Python_CFDS/main/data/tr_eikon_eod_data.csv', index_col=0, parse_dates=True)\n",
    "raw = pd.read_csv('./data/tr_eikon_eod_data.csv', index_col=0, parse_dates=True)\n",
    "data = raw[['.SPX', '.VIX']].dropna()\n",
    "data.tail()"
   ]
  },
  {
   "cell_type": "markdown",
   "metadata": {
    "hideCode": false,
    "hidePrompt": false,
    "slideshow": {
     "slide_type": "subslide"
    }
   },
   "source": [
    "### Correlation analysis"
   ]
  },
  {
   "cell_type": "code",
   "execution_count": null,
   "metadata": {
    "hideCode": false,
    "hidePrompt": false
   },
   "outputs": [],
   "source": [
    "data.plot(subplots=True, figsize=(10, 6));"
   ]
  },
  {
   "cell_type": "markdown",
   "metadata": {
    "hideCode": false,
    "hidePrompt": false,
    "slideshow": {
     "slide_type": "subslide"
    }
   },
   "source": [
    "### Correlation analysis\n",
    "* Transform both data series into log-returns:"
   ]
  },
  {
   "cell_type": "code",
   "execution_count": null,
   "metadata": {
    "hideCode": false,
    "hidePrompt": false
   },
   "outputs": [],
   "source": [
    "rets = np.log(data / data.shift(1)) \n",
    "rets.head()"
   ]
  },
  {
   "cell_type": "code",
   "execution_count": null,
   "metadata": {
    "hideCode": false,
    "hidePrompt": false
   },
   "outputs": [],
   "source": [
    "rets.dropna(inplace=True) # drop NaN (not-a-number) entries"
   ]
  },
  {
   "cell_type": "markdown",
   "metadata": {
    "hideCode": false,
    "hidePrompt": false,
    "slideshow": {
     "slide_type": "subslide"
    }
   },
   "source": [
    "### Correlation analysis"
   ]
  },
  {
   "cell_type": "code",
   "execution_count": null,
   "metadata": {
    "hideCode": false,
    "hidePrompt": false
   },
   "outputs": [],
   "source": [
    "rets.plot(subplots=True, figsize=(10, 6));"
   ]
  },
  {
   "cell_type": "markdown",
   "metadata": {
    "hideCode": false,
    "hidePrompt": false,
    "slideshow": {
     "slide_type": "subslide"
    }
   },
   "source": [
    "### Correlation analysis"
   ]
  },
  {
   "cell_type": "code",
   "execution_count": null,
   "metadata": {
    "hideCode": false,
    "hidePrompt": false
   },
   "outputs": [],
   "source": [
    "pd.plotting.scatter_matrix(rets,  \n",
    "                           alpha=0.2,  \n",
    "                           diagonal='hist',  \n",
    "                           hist_kwds={'bins': 35},  \n",
    "                           figsize=(10, 6));"
   ]
  },
  {
   "cell_type": "markdown",
   "metadata": {
    "hideCode": false,
    "hidePrompt": false,
    "slideshow": {
     "slide_type": "subslide"
    }
   },
   "source": [
    "### Correlation analysis"
   ]
  },
  {
   "cell_type": "code",
   "execution_count": null,
   "metadata": {
    "hideCode": false,
    "hidePrompt": false
   },
   "outputs": [],
   "source": [
    "rets.corr()"
   ]
  },
  {
   "cell_type": "markdown",
   "metadata": {
    "hideCode": false,
    "hidePrompt": false,
    "slideshow": {
     "slide_type": "subslide"
    }
   },
   "source": [
    "### OLS regression\n",
    "* __Linear regression__ captures the linear relationship between two variables. \n",
    "* For two variables $x,y$, we postulate a linear relationship: \n",
    "$$ y = \\alpha + \\beta x + \\varepsilon, \\quad \\alpha, \\beta\\in \\mathbb{R}.$$\n",
    "* Here, $\\alpha$ is the __intercept__, $\\beta$ is the __slope (coefficient)__ and $\\varepsilon$ is the __error term__. \n",
    "* Given  data sample of joint observations $(x_1,y_1), \\ldots, (x_n,y_n)$, we set \n",
    "$$ y_i = \\hat\\alpha + \\hat\\beta x_i + \\hat\\varepsilon_i,$$\n",
    "where $\\hat\\alpha$ and $\\hat\\beta$ are estimates of $\\alpha,\\beta$ and $\\hat\\varepsilon_1,\n",
    "\\ldots, \\hat\\varepsilon_n$ are the so-called __residuals__. \n",
    "* The __ordinary least squares (OLS)__ estimator $\\hat\\alpha,\\hat\\beta$ corresponds to those values of $\\alpha,\\beta$ that minimise the sum of squared residuals: \n",
    "$$\\min_{\\alpha,\\beta} \\sum_{i=1}^n \\varepsilon_i^2 = \\sum_{i=1}^n (y_i-\\alpha-\\beta x_i)^2.$$"
   ]
  },
  {
   "cell_type": "markdown",
   "metadata": {
    "hideCode": false,
    "hidePrompt": false,
    "slideshow": {
     "slide_type": "subslide"
    }
   },
   "source": [
    "### OLS regressions\n",
    "* Simplest form of OLS regression:"
   ]
  },
  {
   "cell_type": "code",
   "execution_count": null,
   "metadata": {
    "hideCode": false,
    "hidePrompt": false
   },
   "outputs": [],
   "source": [
    "reg = np.polyfit(rets['.SPX'], rets['.VIX'], deg=1)  # fit a linear equation (a polynomial of degree 1)\n",
    "reg.view() # the fitted paramters"
   ]
  },
  {
   "cell_type": "markdown",
   "metadata": {},
   "source": [
    "2.62e-03 is scientific notation: $2.62e-03 = 2.62\\cdot 10^{-3}$."
   ]
  },
  {
   "cell_type": "code",
   "execution_count": null,
   "metadata": {
    "hideCode": false,
    "hidePrompt": false
   },
   "outputs": [],
   "source": [
    "ax = rets.plot(kind='scatter', x='.SPX', y='.VIX', figsize=(8, 5)) \n",
    "ax.plot(rets['.SPX'], np.polyval(reg, rets['.SPX']), 'r', lw=2);"
   ]
  },
  {
   "cell_type": "markdown",
   "metadata": {
    "hideCode": false,
    "hidePrompt": false,
    "slideshow": {
     "slide_type": "subslide"
    }
   },
   "source": [
    "### OLS regression\n",
    "* To do a more refined OLS regression with a proper analysis, use the package `statsmodels`. "
   ]
  },
  {
   "cell_type": "code",
   "execution_count": null,
   "metadata": {
    "hideCode": false,
    "hidePrompt": false
   },
   "outputs": [],
   "source": [
    "import statsmodels.api as sm\n",
    "\n",
    "Y=rets['.VIX']\n",
    "X=rets['.SPX']\n",
    "X = sm.add_constant(X)"
   ]
  },
  {
   "cell_type": "code",
   "execution_count": null,
   "metadata": {
    "hideCode": false,
    "hidePrompt": false
   },
   "outputs": [],
   "source": [
    "model = sm.OLS(Y,X)\n",
    "results = model.fit()"
   ]
  },
  {
   "cell_type": "code",
   "execution_count": null,
   "metadata": {
    "hideCode": false,
    "hidePrompt": false
   },
   "outputs": [],
   "source": [
    "results.params"
   ]
  },
  {
   "cell_type": "code",
   "execution_count": null,
   "metadata": {
    "hideCode": false,
    "hidePrompt": false
   },
   "outputs": [],
   "source": [
    "results.predict()[0:10]"
   ]
  },
  {
   "cell_type": "markdown",
   "metadata": {
    "hideCode": false,
    "hidePrompt": false,
    "slideshow": {
     "slide_type": "subslide"
    }
   },
   "source": [
    "### OLS regression"
   ]
  },
  {
   "cell_type": "code",
   "execution_count": null,
   "metadata": {
    "hideCode": false,
    "hidePrompt": false
   },
   "outputs": [],
   "source": [
    "print(results.summary())"
   ]
  },
  {
   "cell_type": "markdown",
   "metadata": {
    "slideshow": {
     "slide_type": "subslide"
    }
   },
   "source": [
    "### OLS regression: Interpretation of output and forecasting\n",
    "* The column `coef` lists the coefficients of the regression: the coefficient in the row labelled `const` corresponds to $\\hat\\alpha$ ($=0.0026$) and the coefficient in the row `.SPX` denotes $\\hat\\beta$ ($=-6.6515$). \n",
    "* The estimated model in the example is thus: \n",
    "$$\n",
    "\\text{.VIX} = 0.0026 - 6.6516 \\text{.SPX}. \n",
    "$$\n",
    "* The best forecast of the VIX return when observing an S&P return of 2% is therefore $0.0026 - 6.6516\\cdot 0.02 = -0.130432 = -13.0432\\%$. "
   ]
  },
  {
   "cell_type": "markdown",
   "metadata": {
    "slideshow": {
     "slide_type": "subslide"
    }
   },
   "source": [
    "### OLS regression: Validation ($R^2$)\n",
    "* To __validate__ the model, i.e., to determine, if the model in itself and the explanatory variable(s) make sense, we look $R^2$ and various $p$-values (or confidence intervals or $t$-statistics). \n",
    "* $R^2$ measures the fraction of variance in the dependent variable $Y$ that is captured by the regression line; $1-R^2$ is the fraction of $Y$-variance that remaines in the residuals $\\varepsilon_i^2$, $i=1,\\ldots, n$. \n",
    "* In the output above $R^2$ is given as $0.647$. In other words, $64.7\\%$ of the variance in VIX returns are \"explained\" by SPX returns. \n",
    "* A high $R^2$ (and this one is high) is necessary for making forecasts. "
   ]
  },
  {
   "cell_type": "markdown",
   "metadata": {
    "slideshow": {
     "slide_type": "subslide"
    }
   },
   "source": [
    "### OLS regression: Validation (confidence interval)\n",
    "* An important hypothesis to test in any regression model is whether the explanatory variable(s) have an effect on the independent variable. \n",
    "* This can be translated into testing whether $\\beta\\not=0$. ($\\beta=0$ is the same as saying that the $X$ variable can be removed from the model.)\n",
    "* Formally, we test the null hypothesis $H_0: \\beta=0$ against the alternative hypothesis $H_1: \\beta\\not=0$. \n",
    "* There are several statistics to come to the same conclusion: confidence intervals, $t$-statistics and $p$-values. \n",
    "* The __confidence interval__ is an interval around the estimate $\\hat\\beta$ that we are confident contains the true parameter $\\beta$. A typial __confidence level__ is 95%. \n",
    "* If the 95% confidence interval does __not__ contain 0, then we say $\\beta$ is __statistically significant__ at the 5% (=1-95%) level, and we conclude that $\\beta\\not=0$. "
   ]
  },
  {
   "cell_type": "markdown",
   "metadata": {
    "slideshow": {
     "slide_type": "subslide"
    }
   },
   "source": [
    "### OLS regression: Validation ($t$-statistic)\n",
    "* The $t$-statistic corresponds to the __number of standard deviations__ that the estimated coefficient $\\hat\\beta$ is away from $0$ (the mean under $H_0$). \n",
    "* For a normal distribution, we have the following rules of thumb: \n",
    "    * $66\\%$ of observations lie within one standard deviation of the mean\n",
    "    * $95\\%$ of observations lie within two standard deviations of the mean\n",
    "    * $99.7\\%$ of observations lie within three standard deviations of the mean  \n",
    "<center>\n",
    "<img src=\"pics/normal6.png\" width=400px>\n",
    "</center>\n",
    "* If the sample size is large enough, then the $t$-statistic is approximately normally distributed, and if it is large (in absolute terms), then this is an indication against $\\beta=0$. \n",
    "* In the example above, the $t$-statistics is -62.559, i.e., $\\hat\\beta$ is approx. 63 standard deviations away from zero, which is practically impossible. \n",
    "    "
   ]
  },
  {
   "cell_type": "markdown",
   "metadata": {
    "slideshow": {
     "slide_type": "subslide"
    }
   },
   "source": [
    "### OLS regression: Validation ($p$-value)\n",
    "* The $p$-value expresses the probability of observing a coefficient estimate as extreme (away from zero) as $\\hat\\beta$ under $H_0$, i.e., when $\\beta=0$. \n",
    "* In other words, it measures the probability of observing a $t$-statistic as extreme as the one observed if $\\beta=0$. \n",
    "* If the $p$-value (column ``P>|t|``) is smaller than the desired level of significance (typically 5%), then the $H_0$ can be rejected and we conclude that $\\beta\\not=0$. \n",
    "* In the example above, the $p$-value is given as $0.000$, i.e., it is so small, that we can conclude the estimated coefficient $\\hat\\beta$ is so extreme (= away from zero) that is virtually impossible to obtain such an estimated if $\\beta=0$. \n",
    "\n",
    "* Finally, the $F$-test tests the hypotheses $H_0:R^2=0$ versus $H_1:R^2\\not=0$. In a multiple regression with $k$ independent variables, this is equivalent to $H_0: \\beta_1=\\cdots=\\beta_k=0$. \n",
    "* In the example above, the $p$-value of the $F$-test is $0$, so we conclude that the model overall has explanatory power. \n",
    "    "
   ]
  }
 ],
 "metadata": {
  "celltoolbar": "Slideshow",
  "hide_code_all_hidden": true,
  "kernelspec": {
   "display_name": "Python 3 (ipykernel)",
   "language": "python",
   "name": "python3"
  },
  "language_info": {
   "codemirror_mode": {
    "name": "ipython",
    "version": 3
   },
   "file_extension": ".py",
   "mimetype": "text/x-python",
   "name": "python",
   "nbconvert_exporter": "python",
   "pygments_lexer": "ipython3",
   "version": "3.11.4"
  },
  "latex_metadata": {
   "author": "Prof.\\ Dr.\\ Natalie Packham\\\\ DVFA \\\\ Chartered Financial Data Scientist\\\\ Summer Term 2020",
   "bib": "notebook.bib",
   "title": "Financial Time Series"
  },
  "livereveal": {
   "slideNumber": "c"
  },
  "toc": {
   "base_numbering": "4",
   "nav_menu": {},
   "number_sections": true,
   "sideBar": true,
   "skip_h1_title": false,
   "title_cell": "Table of Contents",
   "title_sidebar": "Contents",
   "toc_cell": false,
   "toc_position": {
    "height": "calc(100% - 180px)",
    "left": "10px",
    "top": "150px",
    "width": "288px"
   },
   "toc_section_display": true,
   "toc_window_display": false
  }
 },
 "nbformat": 4,
 "nbformat_minor": 4
}
