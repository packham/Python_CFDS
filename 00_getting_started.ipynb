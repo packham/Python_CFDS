{
 "cells": [
  {
   "cell_type": "markdown",
   "metadata": {
    "slideshow": {
     "slide_type": "slide"
    }
   },
   "source": [
    "<!-- <img src=\"pics/CFDS.png\" width=75px>-->\n",
    "<!--<img src=\"pics/DVFA-Akademie_Logo_800px.jpg\" width=300px>-->\n",
    "<img src=\"pics/DVFA_Akademie_Logo_RGB.png\" width=300px>\n",
    "<br>\n",
    "<!--    <p style=\"color:#0E1E5E\">-->\n",
    "    <p style=\"color:#0B4C7B\">\n",
    "    <b>\n",
    "        <font size=\"6\">CFDS® – Chartered Financial Data Scientist</font>\n",
    "        <br><br>\n",
    "        <font size=\"8\">Introduction to Python</font>\n",
    "    </b>\n",
    "<br><br>\n",
    "<b>\n",
    "    <font size=\"5\"> \n",
    "        Prof. Dr. Natalie Packham <br><br>\n",
    "        27 November 2024\n",
    "    </font>\n",
    "</b>\n",
    "</p>"
   ]
  },
  {
   "cell_type": "markdown",
   "metadata": {
    "slideshow": {
     "slide_type": "slide"
    }
   },
   "source": [
    "<h1>Contents<span class=\"tocSkip\"></span></h1>\n",
    "<div class=\"toc\"><ul class=\"toc-item\"><li><span><a href=\"#Getting-started\" data-toc-modified-id=\"Getting-started-0\"><span class=\"toc-item-num\">0&nbsp;&nbsp;</span>Getting started</a></span><ul class=\"toc-item\"><li><span><a href=\"#Introduction\" data-toc-modified-id=\"Introduction-0.1\"><span class=\"toc-item-num\">0.1&nbsp;&nbsp;</span>Introduction</a></span></li><li><span><a href=\"#Installing-Python-and-Jupyter-Notebook\" data-toc-modified-id=\"Installing-Python-and-Jupyter-Notebook-0.2\"><span class=\"toc-item-num\">0.2&nbsp;&nbsp;</span>Installing Python and Jupyter Notebook</a></span></li><li><span><a href=\"#A-first-example\" data-toc-modified-id=\"A-first-example-0.3\"><span class=\"toc-item-num\">0.3&nbsp;&nbsp;</span>A first example</a></span></li></ul></li></ul></div>"
   ]
  },
  {
   "cell_type": "markdown",
   "metadata": {
    "slideshow": {
     "slide_type": "slide"
    }
   },
   "source": [
    "# Getting started\n",
    "## Introduction"
   ]
  },
  {
   "cell_type": "markdown",
   "metadata": {
    "hideCode": true,
    "hidePrompt": true,
    "slideshow": {
     "slide_type": "slide"
    }
   },
   "source": [
    "### Introduction\n",
    "This mini-course will help you learn to:\n",
    "\n",
    "- navigate in a Jupyter Notebook\n",
    "- be able to code simple Python code (variables + lists, conditions, flow control)\n",
    "- know how to find help in the Python universe / zoo\n",
    "- basics of `numpy` and `scipy`\n",
    "- basics of `pandas`\n",
    "- basics of plotting \n",
    "\n",
    "I have also created a set of videos for self-learning on \"Statistics with Python\" to build on the material from your first session.\n",
    "\n",
    "A great reference is __Python for Finance (2nd edition)__ by Yves Hilpisch.\n",
    "(It uses Python version 3.7.)\n"
   ]
  },
  {
   "cell_type": "markdown",
   "metadata": {
    "hideCode": true,
    "hidePrompt": true,
    "slideshow": {
     "slide_type": "subslide"
    }
   },
   "source": [
    "### Background\n",
    "\n",
    "- Python is an open-source programming language that can be downloaded and used for free.\n",
    "- Python was created by Guido van Rossum and first published in 1991.\n",
    "- Today the language is largely developed by the Python Software Foundation, a nonprofit organization.\n",
    "- It is named after the British comedy group \"Monty Python\".\n",
    "- Write something.\n",
    "\n",
    "1. test\n",
    "2. second item\n",
    "\n",
    "$f(x)=x^2$"
   ]
  },
  {
   "cell_type": "code",
   "execution_count": 1,
   "metadata": {},
   "outputs": [
    {
     "name": "stdout",
     "output_type": "stream",
     "text": [
      "The Zen of Python, by Tim Peters\n",
      "\n",
      "Beautiful is better than ugly.\n",
      "Explicit is better than implicit.\n",
      "Simple is better than complex.\n",
      "Complex is better than complicated.\n",
      "Flat is better than nested.\n",
      "Sparse is better than dense.\n",
      "Readability counts.\n",
      "Special cases aren't special enough to break the rules.\n",
      "Although practicality beats purity.\n",
      "Errors should never pass silently.\n",
      "Unless explicitly silenced.\n",
      "In the face of ambiguity, refuse the temptation to guess.\n",
      "There should be one-- and preferably only one --obvious way to do it.\n",
      "Although that way may not be obvious at first unless you're Dutch.\n",
      "Now is better than never.\n",
      "Although never is often better than *right* now.\n",
      "If the implementation is hard to explain, it's a bad idea.\n",
      "If the implementation is easy to explain, it may be a good idea.\n",
      "Namespaces are one honking great idea -- let's do more of those!\n"
     ]
    }
   ],
   "source": [
    "import this"
   ]
  },
  {
   "cell_type": "markdown",
   "metadata": {
    "hideCode": true,
    "hidePrompt": true,
    "slideshow": {
     "slide_type": "slide"
    }
   },
   "source": [
    "Many examples and extended information can be found on the following websites:  \n",
    "\n",
    "* [Beginners' Guide](https://wiki.python.org/moin/BeginnersGuide)\n",
    "* [Python.org](https://docs.python.org/3/tutorial/)\n",
    "* [Scipy Lectures](http://scipy-lectures.org/_downloads/ScipyLectures-simple.pdf)\n",
    "* [The Hitchhiker’s Guide to Python](https://docs.python-guide.org)\n"
   ]
  },
  {
   "cell_type": "markdown",
   "metadata": {
    "hideCode": true,
    "hidePrompt": true,
    "slideshow": {
     "slide_type": "subslide"
    }
   },
   "source": [
    "### Pros\n",
    "- __Universal__: Python runs on any operating system.\n",
    "- __Easy to learn__: Although Python is highly versatile (e.g. can be used for scientific computing), it is relatively easy to learn.\n",
    "- __Readable code__: Python is a high-level programming language, making it easy to read and work with.\n",
    "- __General purpose__: The language can be applied to solve different problems at hand.\n",
    "- __Open source__ and __free__.\n",
    "- __Cross-platform__\n",
    "- __Indentation aware__: indentation is used instead of braces to mark code blocks.\n"
   ]
  },
  {
   "cell_type": "markdown",
   "metadata": {
    "hideCode": true,
    "hidePrompt": true
   },
   "source": [
    "### Cons\n",
    "- __Speed__: While Python is not slow, it cannot keep up with compiled languages such as C, C++, Fortran, COBOL, etc."
   ]
  },
  {
   "cell_type": "markdown",
   "metadata": {
    "hideCode": true,
    "hidePrompt": true,
    "slideshow": {
     "slide_type": "slide"
    }
   },
   "source": [
    "## Installing Python and Jupyter Notebook"
   ]
  },
  {
   "cell_type": "markdown",
   "metadata": {
    "hideCode": true,
    "hidePrompt": true,
    "slideshow": {
     "slide_type": "subslide"
    }
   },
   "source": [
    "### Setting up Python for this class\n",
    "\n",
    "* The book uses __Python 3.7__. The code here has been updated to use __Python 3.11__, which is the current version.\n",
    "* Easiest method to get started: \n",
    "   * Install [Anaconda](https://www.anaconda.com); this will setup up __Python__ as well as the __Jupyter Notebook__ environment that we are going to use in class. "
   ]
  },
  {
   "cell_type": "markdown",
   "metadata": {
    "hideCode": true,
    "hidePrompt": true,
    "slideshow": {
     "slide_type": "subslide"
    }
   },
   "source": [
    "### Jupyter Notebook\n",
    "\n",
    "* __Jupyter Notebook__ is a browser-based application used for creating and sharing documents, containing live code, visualizations, equations, plain text, and many other features. \n",
    "* Launch Jupyter Notebook: \n",
    "   * from Anaconda or \n",
    "   * from the command line (`Terminal` in MacOs or `cmd` in Windows) using the command \n",
    "``` \n",
    "jupyter notebook\n",
    "```\n",
    "* Jupyter notebooks run in a local webserver."
   ]
  },
  {
   "cell_type": "markdown",
   "metadata": {
    "hideCode": true,
    "hidePrompt": true,
    "slideshow": {
     "slide_type": "subslide"
    }
   },
   "source": [
    "### Jupyter Notebook\n",
    "\n",
    "* Before launching Jupyter Notebook from the command line you may wish to navigate to the directory where the notebooks are stored or where you want to store them.\n",
    "* To open a new notebook click on \"New\" and \"Python 3\" in the Jupyter Notebook main window.\n",
    "* To learn to use Jupyter Notebook before, click on \"Help\" and \"User Interface Tour\". "
   ]
  },
  {
   "cell_type": "code",
   "execution_count": null,
   "metadata": {},
   "outputs": [],
   "source": []
  },
  {
   "cell_type": "markdown",
   "metadata": {
    "slideshow": {
     "slide_type": "subslide"
    }
   },
   "source": [
    "### Using Colab\n",
    "\n",
    "* If you don't have Jupyter Notebook installed yet, you can use the online service https://colab.research.google.com. \n",
    "* However, I strongly recommend to install you own version at some point."
   ]
  },
  {
   "cell_type": "markdown",
   "metadata": {
    "hideCode": true,
    "hidePrompt": true,
    "slideshow": {
     "slide_type": "subslide"
    }
   },
   "source": [
    "### Other ways to run Python\n",
    "\n",
    "- The Python __shell__: call `python` from a shell or start an online version at [online shell](https://www.python.org/shell/)\n",
    "![shell](pics/shell_screenshot.png)"
   ]
  },
  {
   "cell_type": "markdown",
   "metadata": {
    "hideCode": true,
    "hidePrompt": true,
    "slideshow": {
     "slide_type": "subslide"
    }
   },
   "source": [
    "### Other ways to run Python\n",
    "\n",
    "* Run Python scripts (suffix `.py`) from a command line using the `python` command, e.g. `python file.py`.\n",
    "* Python’s __IDLE__ (Integrated Development and Learning Environment) is another basic shell to run Python commands.\n",
    "* An __IDE__ (Integrated Development Environment) is an application that integrates programming, running code, debugging, etc.\n",
    "* __IPython__: Interactive Python shell."
   ]
  },
  {
   "cell_type": "markdown",
   "metadata": {
    "hideCode": true,
    "hidePrompt": true,
    "slideshow": {
     "slide_type": "subslide"
    }
   },
   "source": [
    "### The Python Ecosystem\n",
    "\n",
    "* Aside from the programming language, there is a large number of packages, modules and other tools available to support specific tasks. \n",
    "* For example, various plotting libraries are available and can be readily used using `import`."
   ]
  },
  {
   "cell_type": "markdown",
   "metadata": {},
   "source": [
    "### Popular packages (\"The scientific stack\")\n",
    "* [`NumPy`](http://www.numpy.org): multidimensional array objects\n",
    "* [`SciPy`](http://www.scipy.org): functionality often needed in science or finance\n",
    "* [`matplotlib`](http://www.matplotlib.org): plotting\n",
    "* [`pandas`](http://pandas.pydata.org): times series and tabular data\n",
    "* [`scikit-learn`](http://scikit-learn.org): machine learning package\n",
    "* [`PyTables`](http://www.pytables.org): data storage package"
   ]
  },
  {
   "cell_type": "code",
   "execution_count": 2,
   "metadata": {
    "slideshow": {
     "slide_type": "subslide"
    }
   },
   "outputs": [
    {
     "data": {
      "text/plain": [
       "[<matplotlib.lines.Line2D at 0x16878c250>]"
      ]
     },
     "execution_count": 2,
     "metadata": {},
     "output_type": "execute_result"
    },
    {
     "data": {
      "image/png": "[encoded data removed]",
      "text/plain": [
       "<Figure size 640x480 with 1 Axes>"
      ]
     },
     "metadata": {},
     "output_type": "display_data"
    }
   ],
   "source": [
    "import numpy as np\n",
    "import math\n",
    "import matplotlib.pyplot as plt\n",
    "\n",
    "x = np.linspace(0, 6, 100)\n",
    "y = np.sin(x)\n",
    "plt.plot(x, y)"
   ]
  },
  {
   "cell_type": "markdown",
   "metadata": {
    "hideCode": true,
    "hidePrompt": true,
    "slideshow": {
     "slide_type": "slide"
    }
   },
   "source": [
    "### Navigating Jupyter Notebook\n",
    "\n",
    "* Cells in Jupyter Notebook are either \"text cells\", where you can write Markdown code, or they are \"code cells\" containing... well, code.\n",
    "* Markdown cheat sheet: https://www.markdownguide.org/cheat-sheet/\n",
    "* To type in a cell, click on it until the bar on the left turns green.\n",
    "* To exit typing mode, hit the ESC button (the bar turns blue).\n",
    "* To run a cell (text or code), type: SHIFT-RETURN.\n",
    "\n",
    "How code is run:\n",
    "\n",
    "* A Python interpreter (\"the kernel\") is running in the background waiting for work.\n",
    "* Whenever you hit SHIFT-RETURN, the Python interpreter will run the code in the cell. \n",
    "* It will also update its internal state, for example if you load packages, introduce variables or assign values to variables. \n",
    "* Closing the kernel erases the internal state of the session. (Note how this is different from saving the file.)\n"
   ]
  },
  {
   "cell_type": "markdown",
   "metadata": {
    "slideshow": {
     "slide_type": "subslide"
    }
   },
   "source": [
    "### Navigating Jupyter Notebook\n",
    "\n",
    "* Spend a moment to make yourself familiar with the functionality in a Jupyter Notebook. \n",
    "* The little keyboard icon below the menu opens a dialog box with all possible Notebook commands. \n",
    "* You can type to narrow down the commands. \n",
    "* It also shows keyboard shortcuts associated with commands. \n",
    "* A couple of commands are used so often (e.g. opening a new cell below the current one), that it pays off to memorise their shortcuts. \n",
    "* Aside from the usual \"File\", \"Edit\", \"View\" entries, the menu lets you operate the kernel. "
   ]
  },
  {
   "cell_type": "markdown",
   "metadata": {
    "hideCode": true,
    "hidePrompt": true,
    "slideshow": {
     "slide_type": "slide"
    }
   },
   "source": [
    "## A first example"
   ]
  },
  {
   "cell_type": "markdown",
   "metadata": {
    "hideCode": true,
    "hidePrompt": true,
    "slideshow": {
     "slide_type": "subslide"
    }
   },
   "source": [
    "### Example loading and plotting financial data\n",
    "\n",
    "* The following code imports the packages that will be used and sets up the plotting library."
   ]
  },
  {
   "cell_type": "code",
   "execution_count": 3,
   "metadata": {},
   "outputs": [],
   "source": [
    "import numpy as np\n",
    "import pandas as pd\n",
    "import matplotlib.pyplot as plt\n",
    "import seaborn as sns\n"
   ]
  },
  {
   "cell_type": "markdown",
   "metadata": {
    "hideCode": true,
    "hidePrompt": true,
    "slideshow": {
     "slide_type": "subslide"
    }
   },
   "source": [
    "### Example loading and plotting financial data\n",
    "\n",
    "* The following code imports a time series of S&P 500 index data from a `csv` file (`csv`=comma separated values).\n",
    "* It also shows information about the time series."
   ]
  },
  {
   "cell_type": "code",
   "execution_count": 6,
   "metadata": {},
   "outputs": [
    {
     "name": "stdout",
     "output_type": "stream",
     "text": [
      "<class 'pandas.core.frame.DataFrame'>\n",
      "DatetimeIndex: 2138 entries, 2010-01-04 to 2018-06-29\n",
      "Data columns (total 1 columns):\n",
      " #   Column  Non-Null Count  Dtype  \n",
      "---  ------  --------------  -----  \n",
      " 0   .SPX    2138 non-null   float64\n",
      "dtypes: float64(1)\n",
      "memory usage: 33.4 KB\n"
     ]
    }
   ],
   "source": [
    "# If using colab, then uncomment the line below and comment the line after that\n",
    "#data = pd.read_csv('https://raw.githubusercontent.com/packham/Python_CFDS/main/data/tr_eikon_eod_data.csv', index_col=0, parse_dates=True)\n",
    "data = pd.read_csv('data/tr_eikon_eod_data.csv', index_col=0, parse_dates=True)\n",
    "data = pd.DataFrame(data['.SPX']) \n",
    "data.dropna(inplace=True) \n",
    "data.info()"
   ]
  },
  {
   "cell_type": "code",
   "execution_count": 9,
   "metadata": {},
   "outputs": [
    {
     "data": {
      "text/html": [
       "<div>\n",
       "<style scoped>\n",
       "    .dataframe tbody tr th:only-of-type {\n",
       "        vertical-align: middle;\n",
       "    }\n",
       "\n",
       "    .dataframe tbody tr th {\n",
       "        vertical-align: top;\n",
       "    }\n",
       "\n",
       "    .dataframe thead th {\n",
       "        text-align: right;\n",
       "    }\n",
       "</style>\n",
       "<table border=\"1\" class=\"dataframe\">\n",
       "  <thead>\n",
       "    <tr style=\"text-align: right;\">\n",
       "      <th></th>\n",
       "      <th>.SPX</th>\n",
       "    </tr>\n",
       "    <tr>\n",
       "      <th>Date</th>\n",
       "      <th></th>\n",
       "    </tr>\n",
       "  </thead>\n",
       "  <tbody>\n",
       "    <tr>\n",
       "      <th>2010-01-04</th>\n",
       "      <td>1132.99</td>\n",
       "    </tr>\n",
       "    <tr>\n",
       "      <th>2010-01-05</th>\n",
       "      <td>1136.52</td>\n",
       "    </tr>\n",
       "    <tr>\n",
       "      <th>2010-01-06</th>\n",
       "      <td>1137.14</td>\n",
       "    </tr>\n",
       "  </tbody>\n",
       "</table>\n",
       "</div>"
      ],
      "text/plain": [
       "               .SPX\n",
       "Date               \n",
       "2010-01-04  1132.99\n",
       "2010-01-05  1136.52\n",
       "2010-01-06  1137.14"
      ]
     },
     "execution_count": 9,
     "metadata": {},
     "output_type": "execute_result"
    }
   ],
   "source": [
    "data.head(3)"
   ]
  },
  {
   "cell_type": "code",
   "execution_count": 10,
   "metadata": {},
   "outputs": [
    {
     "data": {
      "text/html": [
       "<div>\n",
       "<style scoped>\n",
       "    .dataframe tbody tr th:only-of-type {\n",
       "        vertical-align: middle;\n",
       "    }\n",
       "\n",
       "    .dataframe tbody tr th {\n",
       "        vertical-align: top;\n",
       "    }\n",
       "\n",
       "    .dataframe thead th {\n",
       "        text-align: right;\n",
       "    }\n",
       "</style>\n",
       "<table border=\"1\" class=\"dataframe\">\n",
       "  <thead>\n",
       "    <tr style=\"text-align: right;\">\n",
       "      <th></th>\n",
       "      <th>.SPX</th>\n",
       "    </tr>\n",
       "    <tr>\n",
       "      <th>Date</th>\n",
       "      <th></th>\n",
       "    </tr>\n",
       "  </thead>\n",
       "  <tbody>\n",
       "    <tr>\n",
       "      <th>2018-06-25</th>\n",
       "      <td>2717.07</td>\n",
       "    </tr>\n",
       "    <tr>\n",
       "      <th>2018-06-26</th>\n",
       "      <td>2723.06</td>\n",
       "    </tr>\n",
       "    <tr>\n",
       "      <th>2018-06-27</th>\n",
       "      <td>2699.63</td>\n",
       "    </tr>\n",
       "    <tr>\n",
       "      <th>2018-06-28</th>\n",
       "      <td>2716.31</td>\n",
       "    </tr>\n",
       "    <tr>\n",
       "      <th>2018-06-29</th>\n",
       "      <td>2718.37</td>\n",
       "    </tr>\n",
       "  </tbody>\n",
       "</table>\n",
       "</div>"
      ],
      "text/plain": [
       "               .SPX\n",
       "Date               \n",
       "2018-06-25  2717.07\n",
       "2018-06-26  2723.06\n",
       "2018-06-27  2699.63\n",
       "2018-06-28  2716.31\n",
       "2018-06-29  2718.37"
      ]
     },
     "execution_count": 10,
     "metadata": {},
     "output_type": "execute_result"
    }
   ],
   "source": [
    "data.tail()"
   ]
  },
  {
   "cell_type": "code",
   "execution_count": null,
   "metadata": {},
   "outputs": [],
   "source": [
    "pd.re"
   ]
  },
  {
   "cell_type": "markdown",
   "metadata": {
    "hideCode": true,
    "hideOutput": true,
    "hidePrompt": true,
    "slideshow": {
     "slide_type": "subslide"
    }
   },
   "source": [
    "### Example loading and plotting financial data\n",
    "\n",
    "* Transform the index level data to log-returns, estimate volatility (=standard deviation of returns) and produce plots of index and volatility. "
   ]
  },
  {
   "cell_type": "code",
   "execution_count": 11,
   "metadata": {},
   "outputs": [
    {
     "data": {
      "image/png": "[encoded data removed]",
      "text/plain": [
       "<Figure size 1000x600 with 2 Axes>"
      ]
     },
     "metadata": {},
     "output_type": "display_data"
    }
   ],
   "source": [
    "data['rets'] = np.log(data / data.shift(1))\n",
    "data['vola'] = data['rets'].rolling(252).std() * np.sqrt(252)\n",
    "data[['.SPX', 'vola']].plot(subplots=True, figsize=(10, 6));"
   ]
  }
 ],
 "metadata": {
  "celltoolbar": "Slideshow",
  "hide_code_all_hidden": true,
  "kernelspec": {
   "display_name": "Python 3 (ipykernel)",
   "language": "python",
   "name": "python3"
  },
  "language_info": {
   "codemirror_mode": {
    "name": "ipython",
    "version": 3
   },
   "file_extension": ".py",
   "mimetype": "text/x-python",
   "name": "python",
   "nbconvert_exporter": "python",
   "pygments_lexer": "ipython3",
   "version": "3.11.4"
  },
  "latex_metadata": {
   "author": "Prof.\\ Dr.\\ Natalie Packham\\\\ DVFA \\\\ Chartered Financial Data Scientist\\\\ Summer Term 2020",
   "bib": "notebook.bib",
   "title": "Getting Started"
  },
  "livereveal": {
   "slideNumber": "c"
  },
  "toc": {
   "base_numbering": "0",
   "nav_menu": {},
   "number_sections": true,
   "sideBar": true,
   "skip_h1_title": false,
   "title_cell": "Contents",
   "title_sidebar": "Contents",
   "toc_cell": false,
   "toc_position": {
    "height": "calc(100% - 180px)",
    "left": "10px",
    "top": "150px",
    "width": "288px"
   },
   "toc_section_display": true,
   "toc_window_display": false
  }
 },
 "nbformat": 4,
 "nbformat_minor": 4
}
