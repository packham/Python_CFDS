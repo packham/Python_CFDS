{
 "cells": [
  {
   "cell_type": "markdown",
   "metadata": {
    "hideCode": false,
    "hidePrompt": false,
    "slideshow": {
     "slide_type": "slide"
    }
   },
   "source": [
    "<!-- <img src=\"pics/CFDS.png\" width=75px>-->\n",
    "<img src=\"pics/DVFA-Akademie_Logo_800px.jpg\" width=300px>\n",
    "<br>\n",
    "    <p style=\"color:#0E1E5E\">\n",
    "    <b>\n",
    "        <font size=\"6\">CFDS® – Chartered Financial Data Scientist</font>\n",
    "        <br><br>\n",
    "        <font size=\"8\">Introduction to Python</font>\n",
    "    </b>\n",
    "<br><br>\n",
    "<b>\n",
    "    <font size=\"5\"> \n",
    "        Prof. Dr. Natalie Packham <br><br>\n",
    "        1 December 2022\n",
    "    </font>\n",
    "</b>\n",
    "</p>"
   ]
  },
  {
   "cell_type": "markdown",
   "metadata": {
    "hideCode": false,
    "hideOutput": false,
    "hidePrompt": false,
    "slideshow": {
     "slide_type": "slide"
    }
   },
   "source": [
    "<h1>Table of Contents<span class=\"tocSkip\"></span></h1>\n",
    "<div class=\"toc\"><ul class=\"toc-item\"><li><span><a href=\"#Statistical-Methods-in-Data-Science\" data-toc-modified-id=\"Statistical-Methods-in-Data-Science-5\"><span class=\"toc-item-num\">5&nbsp;&nbsp;</span>Statistical Methods in Data Science</a></span><ul class=\"toc-item\"><li><span><a href=\"#Ridge-regression,-Lasso-and-Elastic-Net\" data-toc-modified-id=\"Ridge-regression,-Lasso-and-Elastic-Net-5.1\"><span class=\"toc-item-num\">5.1&nbsp;&nbsp;</span>Ridge regression, Lasso and Elastic Net</a></span></li><li><span><a href=\"#Logistic-regression\" data-toc-modified-id=\"Logistic-regression-5.2\"><span class=\"toc-item-num\">5.2&nbsp;&nbsp;</span>Logistic regression</a></span></li><li><span><a href=\"#Principal-component-analysis\" data-toc-modified-id=\"Principal-component-analysis-5.3\"><span class=\"toc-item-num\">5.3&nbsp;&nbsp;</span>Principal component analysis</a></span></li></ul></li></ul></div>"
   ]
  },
  {
   "cell_type": "markdown",
   "metadata": {
    "hideCode": false,
    "hidePrompt": false,
    "slideshow": {
     "slide_type": "slide"
    }
   },
   "source": [
    "# Statistical Methods in Data Science"
   ]
  },
  {
   "cell_type": "markdown",
   "metadata": {
    "hideCode": false,
    "hidePrompt": false,
    "slideshow": {
     "slide_type": "subslide"
    }
   },
   "source": [
    "* In this part, we study a number of statistical methods that have become very popular in Data Science applications: \n",
    "* Statistical Learning methods are often classified into: \n",
    "  * Regression versus classification\n",
    "  * Supervised versus unsupervised learning (versus reinforcement learning)\n",
    "* The methods studied here cover these different aspects: \n",
    "  * Ridge regression and Lasso (regression, supervised)\n",
    "  * Logistic regression (classification, supervised)\n",
    "  * Linear discriminant analysis (classification, supervised)\n",
    "  * Principal components analysis (regression, unsupervised)"
   ]
  },
  {
   "cell_type": "markdown",
   "metadata": {
    "slideshow": {
     "slide_type": "slide"
    }
   },
   "source": [
    "## Ridge regression, Lasso and Elastic Net"
   ]
  },
  {
   "cell_type": "markdown",
   "metadata": {},
   "source": [
    "* In linear regression, we assume a linear relationship between the _target_ $Y$ and the feature vector $X$: \n",
    "\n",
    "  $Y = a + b_1 X_1 + b_2 X_2 + \\cdots + b_m X_m + \\epsilon$,\n",
    "  \n",
    "  where $a, b_1, \\ldots, b_m$ are constants and $\\epsilon$ is the error term.\n",
    "* The ordinary least squares (OLS) estimates of $a,b$ minimise the errors\n",
    "\n",
    "  $\\sum_{i=1}^n \\epsilon^2 = \\sum_{i=1}^n (Y_i - a - b_1 X_{i1} - b_2 X_{i2} - \\cdots - b_m X_{im})^2$. "
   ]
  },
  {
   "cell_type": "markdown",
   "metadata": {
    "slideshow": {
     "slide_type": "subslide"
    }
   },
   "source": [
    "* In machine learning, especially when the number of features is high and when features are highly correlated, overfitting can occur. \n",
    "* One way of dealing with this is known as __regularisation__. \n",
    "* The most popular regularisation methods are: \n",
    "  * Ridge regression\n",
    "  * Lasso\n",
    "  * Elastic net"
   ]
  },
  {
   "cell_type": "markdown",
   "metadata": {
    "slideshow": {
     "slide_type": "subslide"
    }
   },
   "source": [
    "### Ridge regression\n",
    "\n",
    "* In statistics, __ridge regression__  is known as __Tikhonov regularisation__ or __$L_2$ regularisation__. \n",
    "* Building on OLS, a term is added to the objective function that places a __penalty__ on the size of the coefficients $b_1, \\ldots, b_m$, by minimising:\n",
    "\n",
    "  $\\sum_{i=1}^n (Y_i - a - b_1 X_{i1} - b_2 X_{i2} - \\cdots - b_m X_{im})^2 + \\lambda \\sum_{j=1}^m b_j^2$. \n",
    "* The constant $\\lambda$ is called __tuning parameter__ or __hyperparameter__ and controls the strength of the penalty factor. \n",
    "* The term $\\lambda \\sum_{j=1}^m b_j^2$ is called the __shrinkage penalty__, as it will shrink the estimates of $b_1, \\ldots, b_m$ towards zero. \n",
    "* Selecting a good value of $\\lambda$ is critial and can be achieved, for example, by __cross-validation__."
   ]
  },
  {
   "cell_type": "markdown",
   "metadata": {
    "slideshow": {
     "slide_type": "subslide"
    }
   },
   "source": [
    "### Ridge regression \n",
    "\n",
    "* The OLS estimates do not depend on the magnitude of the independent variables: multiplying $X_j$ by a constant $c$ leads to a scaling of the OLS-coefficient by $1/c$. \n",
    "* This is different in ridge regression (and Lasso, see below): the estimated coefficients can change substantially when re-scaling independent variables. \n",
    "* Therefore, it is custom, to _standardise_ the features: \n",
    "\n",
    "  $\\tilde x_{ij} = \\displaystyle \\frac{x_{ij}} {\\sqrt{\\frac{1}{n} \\sum_{i=1}^n (x_{ij}-\\overline{x}_j)^2}}$, \n",
    "\n",
    "  so that all variables are on the same scale, i.e., they all have a standard deviation of one.\n",
    "  \n"
   ]
  },
  {
   "cell_type": "markdown",
   "metadata": {
    "slideshow": {
     "slide_type": "subslide"
    }
   },
   "source": [
    "### Lasso\n",
    "\n",
    "* __Lasso (Least absolute shrinkage and selection operator)__, also known as __$L_1$ regularisation__ adds a different penalty: \n",
    "\n",
    "  $\\sum_{i=1}^n (Y_i - a - b_1 X_{i1} - b_2 X_{i2} - \\cdots - b_m X_{im})^2 + \\lambda \\sum_{j=1}^m |b_j|$. \n",
    "* This has the interesting effect that the less relevant features are completely eliminated. \n",
    "* For this reason, Lasso is also often used as a feature selection or variable selection method."
   ]
  },
  {
   "cell_type": "markdown",
   "metadata": {
    "slideshow": {
     "slide_type": "subslide"
    }
   },
   "source": [
    "### Elastic net regression\n",
    "\n",
    "* __Elastic net regression__ is a mixture of ridge regression and Lasso: \n",
    "\n",
    "  $\\sum_{i=1}^n (Y_i - a - b_1 X_{i1} - b_2 X_{i2} - \\cdots - b_m X_{im})^2 + \\lambda_1 \\sum_{j=1}^m b_j^2 +  \\lambda_2 \\sum_{j=1}^m |b_j|$. \n",
    "\n",
    "* Combining the effects of ridge regression and Lasso means that simultaneously\n",
    "  * some coefficients are reduced to zero (Lasso), \n",
    "  * some coefficients are reduced in size (ridge regression)."
   ]
  },
  {
   "cell_type": "markdown",
   "metadata": {
    "slideshow": {
     "slide_type": "subslide"
    }
   },
   "source": [
    "### Example\n",
    "\n",
    "* The following application predicts house prices based on different features of the property. \n",
    "* The data set is from \n",
    "\n",
    "  Hull: Machine Learning in Business. 3rd edition, independently published, 2021. \n",
    "  \n"
   ]
  },
  {
   "cell_type": "code",
   "execution_count": 556,
   "metadata": {
    "slideshow": {
     "slide_type": "subslide"
    }
   },
   "outputs": [],
   "source": [
    "import pandas as pd # python's data handling package\n",
    "import numpy as np # python's scientific computing package\n",
    "import matplotlib.pyplot as plt # python's plotting package\n",
    "\n",
    "from sklearn.metrics import mean_squared_error as mse\n",
    "from sklearn.model_selection import train_test_split\n",
    "# The sklearn library has cross-validation built in!\n",
    "# https://scikit-learn.org/stable/modules/cross_validation.html\n",
    "from sklearn.model_selection import cross_val_score"
   ]
  },
  {
   "cell_type": "code",
   "execution_count": 557,
   "metadata": {},
   "outputs": [],
   "source": [
    "# Both features and target have already been scaled: mean = 0; SD = 1\n",
    "data = pd.read_csv('data/Houseprice_data_scaled.csv') "
   ]
  },
  {
   "cell_type": "code",
   "execution_count": 558,
   "metadata": {},
   "outputs": [],
   "source": [
    "X = data.drop('Sale Price', axis=1)\n",
    "y = data['Sale Price']"
   ]
  },
  {
   "cell_type": "markdown",
   "metadata": {
    "slideshow": {
     "slide_type": "-"
    }
   },
   "source": [
    "* `sklearn` can split training and testing data randomly. "
   ]
  },
  {
   "cell_type": "code",
   "execution_count": 559,
   "metadata": {},
   "outputs": [],
   "source": [
    "X_train, X_test, y_train, y_test = train_test_split(X, y, test_size=0.25, random_state=123)"
   ]
  },
  {
   "cell_type": "markdown",
   "metadata": {
    "slideshow": {
     "slide_type": "subslide"
    }
   },
   "source": [
    "### Linear Regression"
   ]
  },
  {
   "cell_type": "code",
   "execution_count": 560,
   "metadata": {},
   "outputs": [],
   "source": [
    "from sklearn.linear_model import LinearRegression"
   ]
  },
  {
   "cell_type": "code",
   "execution_count": 561,
   "metadata": {},
   "outputs": [
    {
     "data": {
      "text/plain": [
       "LinearRegression(copy_X=True, fit_intercept=True, n_jobs=None, normalize=False)"
      ]
     },
     "execution_count": 561,
     "metadata": {},
     "output_type": "execute_result"
    }
   ],
   "source": [
    "lr=LinearRegression()\n",
    "lr.fit(X_train,y_train)"
   ]
  },
  {
   "cell_type": "code",
   "execution_count": 562,
   "metadata": {},
   "outputs": [
    {
     "data": {
      "text/plain": [
       "0.12897706428848416"
      ]
     },
     "execution_count": 562,
     "metadata": {},
     "output_type": "execute_result"
    }
   ],
   "source": [
    "pred = lr.predict(X_test)\n",
    "mse(y_test, pred)"
   ]
  },
  {
   "cell_type": "markdown",
   "metadata": {
    "slideshow": {
     "slide_type": "subslide"
    }
   },
   "source": [
    "* Observe how the OLS coefficients are all non-zero. \n",
    "* However, some coefficients are negative where a positive coefficient would be expected (e.g. `FullBath`). \n",
    "* This is an indication that the model is struggling to fit the large number of features."
   ]
  },
  {
   "cell_type": "code",
   "execution_count": 563,
   "metadata": {},
   "outputs": [
    {
     "data": {
      "text/html": [
       "<div>\n",
       "<style scoped>\n",
       "    .dataframe tbody tr th:only-of-type {\n",
       "        vertical-align: middle;\n",
       "    }\n",
       "\n",
       "    .dataframe tbody tr th {\n",
       "        vertical-align: top;\n",
       "    }\n",
       "\n",
       "    .dataframe thead th {\n",
       "        text-align: right;\n",
       "    }\n",
       "</style>\n",
       "<table border=\"1\" class=\"dataframe\">\n",
       "  <thead>\n",
       "    <tr style=\"text-align: right;\">\n",
       "      <th></th>\n",
       "      <th>1</th>\n",
       "    </tr>\n",
       "    <tr>\n",
       "      <th>0</th>\n",
       "      <th></th>\n",
       "    </tr>\n",
       "  </thead>\n",
       "  <tbody>\n",
       "    <tr>\n",
       "      <th>intercept</th>\n",
       "      <td>0.0155584</td>\n",
       "    </tr>\n",
       "    <tr>\n",
       "      <th>LotArea</th>\n",
       "      <td>0.114813</td>\n",
       "    </tr>\n",
       "    <tr>\n",
       "      <th>OverallQual</th>\n",
       "      <td>0.214531</td>\n",
       "    </tr>\n",
       "    <tr>\n",
       "      <th>OverallCond</th>\n",
       "      <td>0.0887846</td>\n",
       "    </tr>\n",
       "    <tr>\n",
       "      <th>YearBuilt</th>\n",
       "      <td>0.150433</td>\n",
       "    </tr>\n",
       "    <tr>\n",
       "      <th>YearRemodAdd</th>\n",
       "      <td>0.0472879</td>\n",
       "    </tr>\n",
       "    <tr>\n",
       "      <th>BsmtFinSF1</th>\n",
       "      <td>0.117533</td>\n",
       "    </tr>\n",
       "    <tr>\n",
       "      <th>BsmtUnfSF</th>\n",
       "      <td>-0.00289867</td>\n",
       "    </tr>\n",
       "    <tr>\n",
       "      <th>TotalBsmtSF</th>\n",
       "      <td>0.079751</td>\n",
       "    </tr>\n",
       "    <tr>\n",
       "      <th>1stFlrSF</th>\n",
       "      <td>0.119535</td>\n",
       "    </tr>\n",
       "    <tr>\n",
       "      <th>2ndFlrSF</th>\n",
       "      <td>0.0906242</td>\n",
       "    </tr>\n",
       "    <tr>\n",
       "      <th>GrLivArea</th>\n",
       "      <td>0.217879</td>\n",
       "    </tr>\n",
       "    <tr>\n",
       "      <th>FullBath</th>\n",
       "      <td>-0.00945385</td>\n",
       "    </tr>\n",
       "    <tr>\n",
       "      <th>HalfBath</th>\n",
       "      <td>0.014232</td>\n",
       "    </tr>\n",
       "    <tr>\n",
       "      <th>BedroomAbvGr</th>\n",
       "      <td>-0.0676764</td>\n",
       "    </tr>\n",
       "    <tr>\n",
       "      <th>TotRmsAbvGrd</th>\n",
       "      <td>0.0508581</td>\n",
       "    </tr>\n",
       "    <tr>\n",
       "      <th>Fireplaces</th>\n",
       "      <td>0.0293636</td>\n",
       "    </tr>\n",
       "    <tr>\n",
       "      <th>GarageCars</th>\n",
       "      <td>0.0115954</td>\n",
       "    </tr>\n",
       "    <tr>\n",
       "      <th>GarageArea</th>\n",
       "      <td>0.0802374</td>\n",
       "    </tr>\n",
       "    <tr>\n",
       "      <th>WoodDeckSF</th>\n",
       "      <td>0.0333288</td>\n",
       "    </tr>\n",
       "    <tr>\n",
       "      <th>OpenPorchSF</th>\n",
       "      <td>0.0199222</td>\n",
       "    </tr>\n",
       "    <tr>\n",
       "      <th>EnclosedPorch</th>\n",
       "      <td>0.00270256</td>\n",
       "    </tr>\n",
       "    <tr>\n",
       "      <th>Blmngtn</th>\n",
       "      <td>-0.0163658</td>\n",
       "    </tr>\n",
       "    <tr>\n",
       "      <th>Blueste</th>\n",
       "      <td>-0.0116173</td>\n",
       "    </tr>\n",
       "    <tr>\n",
       "      <th>BrDale</th>\n",
       "      <td>-0.022193</td>\n",
       "    </tr>\n",
       "    <tr>\n",
       "      <th>BrkSide</th>\n",
       "      <td>0.0159665</td>\n",
       "    </tr>\n",
       "    <tr>\n",
       "      <th>ClearCr</th>\n",
       "      <td>-0.0081671</td>\n",
       "    </tr>\n",
       "    <tr>\n",
       "      <th>CollgCr</th>\n",
       "      <td>-0.0139869</td>\n",
       "    </tr>\n",
       "    <tr>\n",
       "      <th>Crawfor</th>\n",
       "      <td>0.035561</td>\n",
       "    </tr>\n",
       "    <tr>\n",
       "      <th>Edwards</th>\n",
       "      <td>-0.00185779</td>\n",
       "    </tr>\n",
       "    <tr>\n",
       "      <th>Gilbert</th>\n",
       "      <td>-0.0213031</td>\n",
       "    </tr>\n",
       "    <tr>\n",
       "      <th>IDOTRR</th>\n",
       "      <td>-0.0024635</td>\n",
       "    </tr>\n",
       "    <tr>\n",
       "      <th>MeadowV</th>\n",
       "      <td>-0.0154194</td>\n",
       "    </tr>\n",
       "    <tr>\n",
       "      <th>Mitchel</th>\n",
       "      <td>-0.034712</td>\n",
       "    </tr>\n",
       "    <tr>\n",
       "      <th>Names</th>\n",
       "      <td>-0.0300631</td>\n",
       "    </tr>\n",
       "    <tr>\n",
       "      <th>NoRidge</th>\n",
       "      <td>0.0510971</td>\n",
       "    </tr>\n",
       "    <tr>\n",
       "      <th>NPkVill</th>\n",
       "      <td>-0.019456</td>\n",
       "    </tr>\n",
       "    <tr>\n",
       "      <th>NriddgHt</th>\n",
       "      <td>0.116042</td>\n",
       "    </tr>\n",
       "    <tr>\n",
       "      <th>NWAmes</th>\n",
       "      <td>-0.0530869</td>\n",
       "    </tr>\n",
       "    <tr>\n",
       "      <th>OLDTown</th>\n",
       "      <td>-0.0142784</td>\n",
       "    </tr>\n",
       "    <tr>\n",
       "      <th>SWISU</th>\n",
       "      <td>-0.00529689</td>\n",
       "    </tr>\n",
       "    <tr>\n",
       "      <th>Sawyer</th>\n",
       "      <td>-0.0174801</td>\n",
       "    </tr>\n",
       "    <tr>\n",
       "      <th>SawyerW</th>\n",
       "      <td>-0.0313221</td>\n",
       "    </tr>\n",
       "    <tr>\n",
       "      <th>Somerst</th>\n",
       "      <td>0.027991</td>\n",
       "    </tr>\n",
       "    <tr>\n",
       "      <th>StoneBr</th>\n",
       "      <td>0.0861389</td>\n",
       "    </tr>\n",
       "    <tr>\n",
       "      <th>Timber</th>\n",
       "      <td>0.0107246</td>\n",
       "    </tr>\n",
       "    <tr>\n",
       "      <th>Veenker</th>\n",
       "      <td>-0.0149855</td>\n",
       "    </tr>\n",
       "    <tr>\n",
       "      <th>Bsmt Qual</th>\n",
       "      <td>0.0263725</td>\n",
       "    </tr>\n",
       "  </tbody>\n",
       "</table>\n",
       "</div>"
      ],
      "text/plain": [
       "                        1\n",
       "0                        \n",
       "intercept       0.0155584\n",
       "LotArea          0.114813\n",
       "OverallQual      0.214531\n",
       "OverallCond     0.0887846\n",
       "YearBuilt        0.150433\n",
       "YearRemodAdd    0.0472879\n",
       "BsmtFinSF1       0.117533\n",
       "BsmtUnfSF     -0.00289867\n",
       "TotalBsmtSF      0.079751\n",
       "1stFlrSF         0.119535\n",
       "2ndFlrSF        0.0906242\n",
       "GrLivArea        0.217879\n",
       "FullBath      -0.00945385\n",
       "HalfBath         0.014232\n",
       "BedroomAbvGr   -0.0676764\n",
       "TotRmsAbvGrd    0.0508581\n",
       "Fireplaces      0.0293636\n",
       "GarageCars      0.0115954\n",
       "GarageArea      0.0802374\n",
       "WoodDeckSF      0.0333288\n",
       "OpenPorchSF     0.0199222\n",
       "EnclosedPorch  0.00270256\n",
       "Blmngtn        -0.0163658\n",
       "Blueste        -0.0116173\n",
       "BrDale          -0.022193\n",
       "BrkSide         0.0159665\n",
       "ClearCr        -0.0081671\n",
       "CollgCr        -0.0139869\n",
       "Crawfor          0.035561\n",
       "Edwards       -0.00185779\n",
       "Gilbert        -0.0213031\n",
       "IDOTRR         -0.0024635\n",
       "MeadowV        -0.0154194\n",
       "Mitchel         -0.034712\n",
       "Names          -0.0300631\n",
       "NoRidge         0.0510971\n",
       "NPkVill         -0.019456\n",
       "NriddgHt         0.116042\n",
       "NWAmes         -0.0530869\n",
       "OLDTown        -0.0142784\n",
       "SWISU         -0.00529689\n",
       "Sawyer         -0.0174801\n",
       "SawyerW        -0.0313221\n",
       "Somerst          0.027991\n",
       "StoneBr         0.0861389\n",
       "Timber          0.0107246\n",
       "Veenker        -0.0149855\n",
       "Bsmt Qual       0.0263725"
      ]
     },
     "execution_count": 563,
     "metadata": {},
     "output_type": "execute_result"
    }
   ],
   "source": [
    "# Create dataFrame with corresponding feature and its respective coefficients\n",
    "coeffs = pd.DataFrame([['intercept'] + list(X_train.columns),[lr.intercept_] + lr.coef_.tolist()]).transpose().set_index(0)\n",
    "coeffs"
   ]
  },
  {
   "cell_type": "markdown",
   "metadata": {
    "slideshow": {
     "slide_type": "subslide"
    }
   },
   "source": [
    "* Indeed, some correlations are high, as the heatmap indicates, which may cause multicollinearity and ill-fitting."
   ]
  },
  {
   "cell_type": "code",
   "execution_count": 564,
   "metadata": {},
   "outputs": [
    {
     "data": {
      "text/plain": [
       "<matplotlib.axes._subplots.AxesSubplot at 0x7feb887df050>"
      ]
     },
     "execution_count": 564,
     "metadata": {},
     "output_type": "execute_result"
    },
    {
     "data": {
      "image/png": "[encoded data removed]",
      "text/plain": [
       "<Figure size 432x288 with 2 Axes>"
      ]
     },
     "metadata": {
      "needs_background": "light"
     },
     "output_type": "display_data"
    }
   ],
   "source": [
    "sns.heatmap(X_train.corr())"
   ]
  },
  {
   "cell_type": "markdown",
   "metadata": {
    "slideshow": {
     "slide_type": "subslide"
    }
   },
   "source": [
    "### Ridge regression"
   ]
  },
  {
   "cell_type": "code",
   "execution_count": 565,
   "metadata": {},
   "outputs": [],
   "source": [
    "# Importing Ridge\n",
    "from sklearn.linear_model import Ridge"
   ]
  },
  {
   "cell_type": "markdown",
   "metadata": {},
   "source": [
    "* Train on the training data set and use  test data set to determine test MSE. "
   ]
  },
  {
   "cell_type": "code",
   "execution_count": 566,
   "metadata": {},
   "outputs": [
    {
     "data": {
      "text/plain": [
       "[0.1290016969234629,\n",
       " 0.12917144141741316,\n",
       " 0.1294122653209535,\n",
       " 0.12970105739268908,\n",
       " 0.13002471627663423,\n",
       " 0.13093789509920933,\n",
       " 0.13194883759388032,\n",
       " 0.13302319862969705,\n",
       " 0.13414251976000655,\n",
       " 0.13647537680000923,\n",
       " 0.14645711609868664]"
      ]
     },
     "execution_count": 566,
     "metadata": {},
     "output_type": "execute_result"
    }
   ],
   "source": [
    "n=np.int(len(X)*.75) # choose 75% of data for training\n",
    "# The alpha used by Python's ridge should be the lambda above times the number of observations\n",
    "alphas=[0.01*n, 0.02*n, 0.03*n, 0.04*n, 0.05*n, 0.075*n,0.1*n,0.125*n, 0.15*n,0.2*n, 0.4*n]\n",
    "mses=[]\n",
    "for alpha in alphas:\n",
    "    ridge=Ridge(alpha=alpha)\n",
    "    ridge.fit(X_train,y_train)\n",
    "    pred=ridge.predict(X_test)\n",
    "    mses.append(mse(y_test,pred))\n",
    "mses"
   ]
  },
  {
   "cell_type": "markdown",
   "metadata": {
    "slideshow": {
     "slide_type": "subslide"
    }
   },
   "source": [
    "* This is how to use cross-validation; just specify the number of folds (`cv`) and MSE as the `scoring` function: "
   ]
  },
  {
   "cell_type": "code",
   "execution_count": 567,
   "metadata": {},
   "outputs": [
    {
     "data": {
      "text/plain": [
       "[0.12607295502403676,\n",
       " 0.12509029977210734,\n",
       " 0.12435770257439963,\n",
       " 0.12381364622001015,\n",
       " 0.12341528032782012,\n",
       " 0.12287421953596336,\n",
       " 0.1227683115115362,\n",
       " 0.1229385883925512,\n",
       " 0.1232942045844323,\n",
       " 0.12435934533876436,\n",
       " 0.13059077561292226]"
      ]
     },
     "execution_count": 567,
     "metadata": {},
     "output_type": "execute_result"
    }
   ],
   "source": [
    "# The alpha used by Python's ridge should be the lambda above times the number of observations\n",
    "alphas=[0.01*n, 0.02*n, 0.03*n, 0.04*n, 0.05*n, 0.075*n,0.1*n,0.125*n, 0.15*n,0.2*n, 0.4*n]\n",
    "mses=[]\n",
    "for alpha in alphas:\n",
    "    scores = cross_val_score(Ridge(alpha=alpha), X, y, cv=4, scoring=\"neg_root_mean_squared_error\")**2\n",
    "    mses.append(np.mean(scores))\n",
    "#np.transpose([alphas, mses])\n",
    "mses"
   ]
  },
  {
   "cell_type": "markdown",
   "metadata": {
    "slideshow": {
     "slide_type": "subslide"
    }
   },
   "source": [
    "* Average test MSE varies with the hyperparameter $\\alpha$. \n",
    "* The best model choice is at approximately $0.1\\cdot n = 218$. "
   ]
  },
  {
   "cell_type": "code",
   "execution_count": 568,
   "metadata": {},
   "outputs": [
    {
     "data": {
      "text/plain": [
       "[<matplotlib.lines.Line2D at 0x7feb887f2150>]"
      ]
     },
     "execution_count": 568,
     "metadata": {},
     "output_type": "execute_result"
    },
    {
     "data": {
      "image/png": "[encoded data removed]",
      "text/plain": [
       "<Figure size 432x288 with 1 Axes>"
      ]
     },
     "metadata": {
      "needs_background": "light"
     },
     "output_type": "display_data"
    }
   ],
   "source": [
    "plt.plot(alphas, mses)"
   ]
  },
  {
   "cell_type": "markdown",
   "metadata": {
    "slideshow": {
     "slide_type": "subslide"
    }
   },
   "source": [
    "### Lasso"
   ]
  },
  {
   "cell_type": "code",
   "execution_count": 569,
   "metadata": {},
   "outputs": [],
   "source": [
    "# Import Lasso\n",
    "from sklearn.linear_model import Lasso"
   ]
  },
  {
   "cell_type": "code",
   "execution_count": 570,
   "metadata": {},
   "outputs": [
    {
     "data": {
      "text/plain": [
       "Lasso(alpha=0.05, copy_X=True, fit_intercept=True, max_iter=1000,\n",
       "      normalize=False, positive=False, precompute=False, random_state=None,\n",
       "      selection='cyclic', tol=0.0001, warm_start=False)"
      ]
     },
     "execution_count": 570,
     "metadata": {},
     "output_type": "execute_result"
    }
   ],
   "source": [
    "# Here we produce results for alpha=0.05 which corresponds to lambda=0.1 in Hull's book\n",
    "lasso = Lasso(alpha=0.05)\n",
    "lasso.fit(X_train, y_train)"
   ]
  },
  {
   "cell_type": "markdown",
   "metadata": {
    "slideshow": {
     "slide_type": "subslide"
    }
   },
   "source": [
    "* As Lasso acts as a variable selection method we would expect some coefficients to be set to zero:"
   ]
  },
  {
   "cell_type": "code",
   "execution_count": 571,
   "metadata": {},
   "outputs": [
    {
     "data": {
      "text/html": [
       "<div>\n",
       "<style scoped>\n",
       "    .dataframe tbody tr th:only-of-type {\n",
       "        vertical-align: middle;\n",
       "    }\n",
       "\n",
       "    .dataframe tbody tr th {\n",
       "        vertical-align: top;\n",
       "    }\n",
       "\n",
       "    .dataframe thead th {\n",
       "        text-align: right;\n",
       "    }\n",
       "</style>\n",
       "<table border=\"1\" class=\"dataframe\">\n",
       "  <thead>\n",
       "    <tr style=\"text-align: right;\">\n",
       "      <th></th>\n",
       "      <th>1</th>\n",
       "    </tr>\n",
       "    <tr>\n",
       "      <th>0</th>\n",
       "      <th></th>\n",
       "    </tr>\n",
       "  </thead>\n",
       "  <tbody>\n",
       "    <tr>\n",
       "      <th>intercept</th>\n",
       "      <td>0.0126168</td>\n",
       "    </tr>\n",
       "    <tr>\n",
       "      <th>LotArea</th>\n",
       "      <td>0.0334345</td>\n",
       "    </tr>\n",
       "    <tr>\n",
       "      <th>OverallQual</th>\n",
       "      <td>0.297123</td>\n",
       "    </tr>\n",
       "    <tr>\n",
       "      <th>OverallCond</th>\n",
       "      <td>0</td>\n",
       "    </tr>\n",
       "    <tr>\n",
       "      <th>YearBuilt</th>\n",
       "      <td>0.0367456</td>\n",
       "    </tr>\n",
       "    <tr>\n",
       "      <th>YearRemodAdd</th>\n",
       "      <td>0.0734934</td>\n",
       "    </tr>\n",
       "    <tr>\n",
       "      <th>BsmtFinSF1</th>\n",
       "      <td>0.105878</td>\n",
       "    </tr>\n",
       "    <tr>\n",
       "      <th>BsmtUnfSF</th>\n",
       "      <td>-0</td>\n",
       "    </tr>\n",
       "    <tr>\n",
       "      <th>TotalBsmtSF</th>\n",
       "      <td>0.0585557</td>\n",
       "    </tr>\n",
       "    <tr>\n",
       "      <th>1stFlrSF</th>\n",
       "      <td>0.0592068</td>\n",
       "    </tr>\n",
       "    <tr>\n",
       "      <th>2ndFlrSF</th>\n",
       "      <td>0</td>\n",
       "    </tr>\n",
       "    <tr>\n",
       "      <th>GrLivArea</th>\n",
       "      <td>0.290129</td>\n",
       "    </tr>\n",
       "    <tr>\n",
       "      <th>FullBath</th>\n",
       "      <td>0</td>\n",
       "    </tr>\n",
       "    <tr>\n",
       "      <th>HalfBath</th>\n",
       "      <td>0</td>\n",
       "    </tr>\n",
       "    <tr>\n",
       "      <th>BedroomAbvGr</th>\n",
       "      <td>-0</td>\n",
       "    </tr>\n",
       "    <tr>\n",
       "      <th>TotRmsAbvGrd</th>\n",
       "      <td>0</td>\n",
       "    </tr>\n",
       "    <tr>\n",
       "      <th>Fireplaces</th>\n",
       "      <td>0.0230731</td>\n",
       "    </tr>\n",
       "    <tr>\n",
       "      <th>GarageCars</th>\n",
       "      <td>0.0030543</td>\n",
       "    </tr>\n",
       "    <tr>\n",
       "      <th>GarageArea</th>\n",
       "      <td>0.0985098</td>\n",
       "    </tr>\n",
       "    <tr>\n",
       "      <th>WoodDeckSF</th>\n",
       "      <td>0.00378593</td>\n",
       "    </tr>\n",
       "    <tr>\n",
       "      <th>OpenPorchSF</th>\n",
       "      <td>0</td>\n",
       "    </tr>\n",
       "    <tr>\n",
       "      <th>EnclosedPorch</th>\n",
       "      <td>-0</td>\n",
       "    </tr>\n",
       "    <tr>\n",
       "      <th>Blmngtn</th>\n",
       "      <td>-0</td>\n",
       "    </tr>\n",
       "    <tr>\n",
       "      <th>Blueste</th>\n",
       "      <td>-0</td>\n",
       "    </tr>\n",
       "    <tr>\n",
       "      <th>BrDale</th>\n",
       "      <td>-0</td>\n",
       "    </tr>\n",
       "    <tr>\n",
       "      <th>BrkSide</th>\n",
       "      <td>0</td>\n",
       "    </tr>\n",
       "    <tr>\n",
       "      <th>ClearCr</th>\n",
       "      <td>0</td>\n",
       "    </tr>\n",
       "    <tr>\n",
       "      <th>CollgCr</th>\n",
       "      <td>-0</td>\n",
       "    </tr>\n",
       "    <tr>\n",
       "      <th>Crawfor</th>\n",
       "      <td>0</td>\n",
       "    </tr>\n",
       "    <tr>\n",
       "      <th>Edwards</th>\n",
       "      <td>-0</td>\n",
       "    </tr>\n",
       "    <tr>\n",
       "      <th>Gilbert</th>\n",
       "      <td>-0</td>\n",
       "    </tr>\n",
       "    <tr>\n",
       "      <th>IDOTRR</th>\n",
       "      <td>-0</td>\n",
       "    </tr>\n",
       "    <tr>\n",
       "      <th>MeadowV</th>\n",
       "      <td>-0</td>\n",
       "    </tr>\n",
       "    <tr>\n",
       "      <th>Mitchel</th>\n",
       "      <td>-0</td>\n",
       "    </tr>\n",
       "    <tr>\n",
       "      <th>Names</th>\n",
       "      <td>-0</td>\n",
       "    </tr>\n",
       "    <tr>\n",
       "      <th>NoRidge</th>\n",
       "      <td>0.00812487</td>\n",
       "    </tr>\n",
       "    <tr>\n",
       "      <th>NPkVill</th>\n",
       "      <td>-0</td>\n",
       "    </tr>\n",
       "    <tr>\n",
       "      <th>NriddgHt</th>\n",
       "      <td>0.0746783</td>\n",
       "    </tr>\n",
       "    <tr>\n",
       "      <th>NWAmes</th>\n",
       "      <td>-0</td>\n",
       "    </tr>\n",
       "    <tr>\n",
       "      <th>OLDTown</th>\n",
       "      <td>-0</td>\n",
       "    </tr>\n",
       "    <tr>\n",
       "      <th>SWISU</th>\n",
       "      <td>-0</td>\n",
       "    </tr>\n",
       "    <tr>\n",
       "      <th>Sawyer</th>\n",
       "      <td>-0</td>\n",
       "    </tr>\n",
       "    <tr>\n",
       "      <th>SawyerW</th>\n",
       "      <td>-0</td>\n",
       "    </tr>\n",
       "    <tr>\n",
       "      <th>Somerst</th>\n",
       "      <td>0</td>\n",
       "    </tr>\n",
       "    <tr>\n",
       "      <th>StoneBr</th>\n",
       "      <td>0.0442504</td>\n",
       "    </tr>\n",
       "    <tr>\n",
       "      <th>Timber</th>\n",
       "      <td>0</td>\n",
       "    </tr>\n",
       "    <tr>\n",
       "      <th>Veenker</th>\n",
       "      <td>-0</td>\n",
       "    </tr>\n",
       "    <tr>\n",
       "      <th>Bsmt Qual</th>\n",
       "      <td>0.0421831</td>\n",
       "    </tr>\n",
       "  </tbody>\n",
       "</table>\n",
       "</div>"
      ],
      "text/plain": [
       "                        1\n",
       "0                        \n",
       "intercept       0.0126168\n",
       "LotArea         0.0334345\n",
       "OverallQual      0.297123\n",
       "OverallCond             0\n",
       "YearBuilt       0.0367456\n",
       "YearRemodAdd    0.0734934\n",
       "BsmtFinSF1       0.105878\n",
       "BsmtUnfSF              -0\n",
       "TotalBsmtSF     0.0585557\n",
       "1stFlrSF        0.0592068\n",
       "2ndFlrSF                0\n",
       "GrLivArea        0.290129\n",
       "FullBath                0\n",
       "HalfBath                0\n",
       "BedroomAbvGr           -0\n",
       "TotRmsAbvGrd            0\n",
       "Fireplaces      0.0230731\n",
       "GarageCars      0.0030543\n",
       "GarageArea      0.0985098\n",
       "WoodDeckSF     0.00378593\n",
       "OpenPorchSF             0\n",
       "EnclosedPorch          -0\n",
       "Blmngtn                -0\n",
       "Blueste                -0\n",
       "BrDale                 -0\n",
       "BrkSide                 0\n",
       "ClearCr                 0\n",
       "CollgCr                -0\n",
       "Crawfor                 0\n",
       "Edwards                -0\n",
       "Gilbert                -0\n",
       "IDOTRR                 -0\n",
       "MeadowV                -0\n",
       "Mitchel                -0\n",
       "Names                  -0\n",
       "NoRidge        0.00812487\n",
       "NPkVill                -0\n",
       "NriddgHt        0.0746783\n",
       "NWAmes                 -0\n",
       "OLDTown                -0\n",
       "SWISU                  -0\n",
       "Sawyer                 -0\n",
       "SawyerW                -0\n",
       "Somerst                 0\n",
       "StoneBr         0.0442504\n",
       "Timber                  0\n",
       "Veenker                -0\n",
       "Bsmt Qual       0.0421831"
      ]
     },
     "execution_count": 571,
     "metadata": {},
     "output_type": "execute_result"
    }
   ],
   "source": [
    "# DataFrame with corresponding feature and its respective coefficients\n",
    "coeffs = pd.DataFrame(\n",
    "    [\n",
    "        ['intercept'] + list(X_train.columns),\n",
    "        [lasso.intercept_] + lasso.coef_.tolist()\n",
    "    ]\n",
    ").transpose().set_index(0)\n",
    "coeffs"
   ]
  },
  {
   "cell_type": "markdown",
   "metadata": {
    "slideshow": {
     "slide_type": "subslide"
    }
   },
   "source": [
    "* Now, let's find again the parameter with minimal average test MSE:"
   ]
  },
  {
   "cell_type": "code",
   "execution_count": 572,
   "metadata": {},
   "outputs": [
    {
     "data": {
      "text/plain": [
       "[0.1265681481618964,\n",
       " 0.1260315944388273,\n",
       " 0.1254610514096055,\n",
       " 0.12537868421196222,\n",
       " 0.12550453489552857,\n",
       " 0.12585810184192925,\n",
       " 0.1264240784171701,\n",
       " 0.12812145502223948,\n",
       " 0.13074985189167782]"
      ]
     },
     "execution_count": 572,
     "metadata": {},
     "output_type": "execute_result"
    }
   ],
   "source": [
    "\n",
    "# We now consider different lambda values. The alphas are half the lambdas\n",
    "alphas=[0.0025/2, 0.005/2, 0.01/2, 0.015/2, 0.02/2, 0.025/2, 0.03/2, 0.04/2, 0.05/2]\n",
    "mses=[]\n",
    "for alpha in alphas:\n",
    "    scores = cross_val_score(Lasso(alpha=alpha), X, y, cv=4, scoring=\"neg_root_mean_squared_error\")**2\n",
    "    mses.append(np.mean(scores))    \n",
    "#np.transpose([alphas,mses])\n",
    "mses"
   ]
  },
  {
   "cell_type": "markdown",
   "metadata": {
    "slideshow": {
     "slide_type": "subslide"
    }
   },
   "source": [
    "* The optimal parameter is at $\\alpha=0.0075$:"
   ]
  },
  {
   "cell_type": "code",
   "execution_count": 573,
   "metadata": {},
   "outputs": [
    {
     "data": {
      "text/plain": [
       "[<matplotlib.lines.Line2D at 0x7feb86847910>]"
      ]
     },
     "execution_count": 573,
     "metadata": {},
     "output_type": "execute_result"
    },
    {
     "data": {
      "image/png": "[encoded data removed]",
      "text/plain": [
       "<Figure size 432x288 with 1 Axes>"
      ]
     },
     "metadata": {
      "needs_background": "light"
     },
     "output_type": "display_data"
    }
   ],
   "source": [
    "plt.plot(alphas, mses)"
   ]
  },
  {
   "cell_type": "markdown",
   "metadata": {
    "hideCode": false,
    "hidePrompt": false,
    "slideshow": {
     "slide_type": "slide"
    }
   },
   "source": [
    "## Logistic regression"
   ]
  },
  {
   "cell_type": "markdown",
   "metadata": {},
   "source": [
    "* In a regression setting, numerical variables are predicted. \n",
    "* Another application is classification, which is about predicting the category a new observation belongs to. \n",
    "* In supervised learning, and with two categories, a variation of regression, called __logistic regression__ can be used. \n",
    "* Given features $X_1, \\ldots, X_m$, suppose there are two classes to which observations can belong. \n",
    "* An example is the prediction of a loan's default risk, given characteristics of the creditor such as age, education, marital status, etc. \n",
    "* Another example is the classification of e-mails into junk or non-junk e-mails."
   ]
  },
  {
   "cell_type": "markdown",
   "metadata": {
    "slideshow": {
     "slide_type": "subslide"
    }
   },
   "source": [
    "### Logistic regression\n",
    "\n",
    "* Logistic regression can be used to calculate the probability of a positive outcome via the __sigmoid function__ \n",
    "\n",
    "  $P(Y=1|X) = \\displaystyle \\frac{1}{1+\\mathrm{e}^{-X}} = \\frac{\\mathrm{e}^{X}}{1+\\mathrm{e}^X}$,\n",
    "  \n",
    "  where $\\mathrm{e}$ is the Euler constant. "
   ]
  },
  {
   "cell_type": "code",
   "execution_count": 574,
   "metadata": {},
   "outputs": [
    {
     "data": {
      "text/plain": [
       "[<matplotlib.lines.Line2D at 0x7feb8685f850>]"
      ]
     },
     "execution_count": 574,
     "metadata": {},
     "output_type": "execute_result"
    },
    {
     "data": {
      "image/png": "[encoded data removed]",
      "text/plain": [
       "<Figure size 432x288 with 1 Axes>"
      ]
     },
     "metadata": {
      "needs_background": "light"
     },
     "output_type": "display_data"
    }
   ],
   "source": [
    "x=np.arange(-7,7,0.25)\n",
    "plt.plot(x, 1/(1+np.exp(-x)))"
   ]
  },
  {
   "cell_type": "markdown",
   "metadata": {
    "slideshow": {
     "slide_type": "subslide"
    }
   },
   "source": [
    "### Logistic regression\n",
    "\n",
    "* Setting $Y=a + b_1 X_1 + b_2 X_2 + \\cdots + b_m X_m$, the probability of a positive outcome is \n",
    "\n",
    "  $P(Y=1|X_1,\\ldots, X_m) = \\displaystyle \\frac{1}{1+\\textrm{exp}(-a - \\sum_{j=1}^m b_j X_j)}$. \n",
    "  \n",
    "* The objective is to find the coefficients $a, b_1, \\ldots, b_m$ that best classify the given data. \n",
    "* __Maximum likelihood__ is a versatile method for this type of problem, when OLS does not apply. \n",
    "* Without going into detail, the __log likelihood function__ is given as \n",
    "\n",
    "  $\\ell(a, b_1, \\ldots, b_m|x_1, \\ldots, x_n) = \\sum_{k:y_k=1} \\ln (p(x_k)) + \\sum_{k: y_k=0} \\ln (1-p(x_k))$,\n",
    "  \n",
    "  and the parameters are chosen that maximise this function. \n",
    "\n",
    "* (Note: The likelihood function is derived by considering the observations to be independent outcomes of a Bernoulli random variable.)"
   ]
  },
  {
   "cell_type": "markdown",
   "metadata": {
    "slideshow": {
     "slide_type": "subslide"
    }
   },
   "source": [
    "### Example: Credit risk\n",
    "\n",
    "* The dataset in this example is taken from James et al.: An Introduction to Statistical Learning. Springer, 2013.\n",
    "\n",
    "* It contains simulated data of defaults on credit card payments, on the basis of credit card balance (amongst other things).\n",
    "\n",
    "* An excellent tutorial and examples on logistic regression in Python is available here: https://realpython.com/logistic-regression-python/.\n",
    "\n",
    "* We will use the `sklearn` package below. Logistic regression can also be performed with the `statsmodels.api`, in which case $p$-values and other statistics are calculated."
   ]
  },
  {
   "cell_type": "code",
   "execution_count": 575,
   "metadata": {
    "slideshow": {
     "slide_type": "subslide"
    }
   },
   "outputs": [],
   "source": [
    "import matplotlib.pyplot as plt\n",
    "import numpy as np\n",
    "import pandas as pd\n",
    "from sklearn.linear_model import LogisticRegression\n",
    "from sklearn.metrics import classification_report, confusion_matrix\n",
    "from sklearn.model_selection import train_test_split"
   ]
  },
  {
   "cell_type": "code",
   "execution_count": 576,
   "metadata": {},
   "outputs": [],
   "source": [
    "data = pd.read_csv(\"./data/Default_JamesEtAl.csv\")"
   ]
  },
  {
   "cell_type": "code",
   "execution_count": 577,
   "metadata": {},
   "outputs": [],
   "source": [
    "x=np.array(data[\"balance\"]).reshape(-1,1) # array must be two-dimensional\n",
    "y=np.array([True if x==\"Yes\" else False for x in data[\"default\"]]) # list comprehension\n",
    "\n",
    "x_train, x_test, y_train, y_test = train_test_split(x, y, test_size=0.2, random_state=0)"
   ]
  },
  {
   "cell_type": "code",
   "execution_count": 578,
   "metadata": {},
   "outputs": [
    {
     "data": {
      "text/plain": [
       "LogisticRegression(C=1.0, class_weight=None, dual=False, fit_intercept=True,\n",
       "                   intercept_scaling=1, l1_ratio=None, max_iter=100,\n",
       "                   multi_class='auto', n_jobs=None, penalty='l2',\n",
       "                   random_state=0, solver='liblinear', tol=0.0001, verbose=0,\n",
       "                   warm_start=False)"
      ]
     },
     "execution_count": 578,
     "metadata": {},
     "output_type": "execute_result"
    }
   ],
   "source": [
    "model = LogisticRegression(solver='liblinear', random_state=0)\n",
    "model.fit(x_train,y_train)"
   ]
  },
  {
   "cell_type": "code",
   "execution_count": 579,
   "metadata": {},
   "outputs": [
    {
     "data": {
      "text/plain": [
       "[-8.537515117344592, 0.0041960838665424756]"
      ]
     },
     "execution_count": 579,
     "metadata": {},
     "output_type": "execute_result"
    }
   ],
   "source": [
    "# fitted parameters\n",
    "a=model.intercept_[0]\n",
    "b=model.coef_[0,0]\n",
    "[a,b]"
   ]
  },
  {
   "cell_type": "markdown",
   "metadata": {
    "slideshow": {
     "slide_type": "subslide"
    }
   },
   "source": [
    "* Scatter plot of data and fitted logistic function:"
   ]
  },
  {
   "cell_type": "code",
   "execution_count": 580,
   "metadata": {},
   "outputs": [
    {
     "data": {
      "text/plain": [
       "[<matplotlib.lines.Line2D at 0x7feb88fd7d10>]"
      ]
     },
     "execution_count": 580,
     "metadata": {},
     "output_type": "execute_result"
    },
    {
     "data": {
      "image/png": "[encoded data removed]",
      "text/plain": [
       "<Figure size 432x288 with 1 Axes>"
      ]
     },
     "metadata": {
      "needs_background": "light"
     },
     "output_type": "display_data"
    }
   ],
   "source": [
    "plt.scatter(x,y,c='orange', marker=\"+\")\n",
    "plt.xlabel('balance')\n",
    "xrange=range(0,3000,10)\n",
    "plt.plot(xrange,1/(1+np.exp(-a-b *xrange)))"
   ]
  },
  {
   "cell_type": "markdown",
   "metadata": {
    "slideshow": {
     "slide_type": "subslide"
    }
   },
   "source": [
    "* Predictions:"
   ]
  },
  {
   "cell_type": "code",
   "execution_count": 581,
   "metadata": {},
   "outputs": [
    {
     "data": {
      "text/plain": [
       "array([[0.98633215, 0.01366785],\n",
       "       [0.98600606, 0.01399394],\n",
       "       [0.98133591, 0.01866409],\n",
       "       [0.998236  , 0.001764  ],\n",
       "       [0.99643573, 0.00356427]])"
      ]
     },
     "execution_count": 581,
     "metadata": {},
     "output_type": "execute_result"
    }
   ],
   "source": [
    "model.predict_proba(x_train)[:5]"
   ]
  },
  {
   "cell_type": "code",
   "execution_count": 582,
   "metadata": {},
   "outputs": [
    {
     "data": {
      "text/plain": [
       "array([False, False, False, False, False, False, False, False, False,\n",
       "       False])"
      ]
     },
     "execution_count": 582,
     "metadata": {},
     "output_type": "execute_result"
    }
   ],
   "source": [
    "model.predict(x_train)[:10]"
   ]
  },
  {
   "cell_type": "markdown",
   "metadata": {},
   "source": [
    "* Mean accuracy of the model:"
   ]
  },
  {
   "cell_type": "code",
   "execution_count": 583,
   "metadata": {},
   "outputs": [
    {
     "data": {
      "text/plain": [
       "[0.972875, 0.968]"
      ]
     },
     "execution_count": 583,
     "metadata": {},
     "output_type": "execute_result"
    }
   ],
   "source": [
    "[model.score(x_train,y_train), model.score(x_test,y_test)]"
   ]
  },
  {
   "cell_type": "markdown",
   "metadata": {
    "slideshow": {
     "slide_type": "subslide"
    }
   },
   "source": [
    "* Confusion matrix: \n",
    "\n",
    "<center>\n",
    "<img src=\"pics/confusionMatrix.png\" width=300px>\n",
    "    </center>\n",
    "    <div align=\"right\" style=\"font-size:14px\">https://towardsdatascience.com/a-look-at-precision-recall-and-f1-score-36b5fd0dd3ec</div>\n"
   ]
  },
  {
   "cell_type": "code",
   "execution_count": 584,
   "metadata": {},
   "outputs": [
    {
     "data": {
      "text/plain": [
       "array([[7726,   15],\n",
       "       [ 202,   57]])"
      ]
     },
     "execution_count": 584,
     "metadata": {},
     "output_type": "execute_result"
    }
   ],
   "source": [
    "confusion_matrix(y_train,model.predict(x_train))"
   ]
  },
  {
   "cell_type": "code",
   "execution_count": 585,
   "metadata": {},
   "outputs": [
    {
     "data": {
      "text/plain": [
       "array([[1923,    3],\n",
       "       [  61,   13]])"
      ]
     },
     "execution_count": 585,
     "metadata": {},
     "output_type": "execute_result"
    }
   ],
   "source": [
    "confusion_matrix(y_test,model.predict(x_test))"
   ]
  },
  {
   "cell_type": "markdown",
   "metadata": {
    "slideshow": {
     "slide_type": "subslide"
    }
   },
   "source": [
    "* See link below for an explanation of the metrics:\n",
    "\n",
    "https://towardsdatascience.com/a-look-at-precision-recall-and-f1-score-36b5fd0dd3ec"
   ]
  },
  {
   "cell_type": "code",
   "execution_count": 586,
   "metadata": {},
   "outputs": [
    {
     "name": "stdout",
     "output_type": "stream",
     "text": [
      "              precision    recall  f1-score   support\n",
      "\n",
      "       False       0.97      1.00      0.99      7741\n",
      "        True       0.79      0.22      0.34       259\n",
      "\n",
      "    accuracy                           0.97      8000\n",
      "   macro avg       0.88      0.61      0.67      8000\n",
      "weighted avg       0.97      0.97      0.97      8000\n",
      "\n"
     ]
    }
   ],
   "source": [
    "print(classification_report(y_train, model.predict(x_train)))"
   ]
  },
  {
   "cell_type": "code",
   "execution_count": 587,
   "metadata": {},
   "outputs": [
    {
     "name": "stdout",
     "output_type": "stream",
     "text": [
      "              precision    recall  f1-score   support\n",
      "\n",
      "       False       0.97      1.00      0.98      1926\n",
      "        True       0.81      0.18      0.29        74\n",
      "\n",
      "    accuracy                           0.97      2000\n",
      "   macro avg       0.89      0.59      0.64      2000\n",
      "weighted avg       0.96      0.97      0.96      2000\n",
      "\n"
     ]
    }
   ],
   "source": [
    "print(classification_report(y_test, model.predict(x_test)))"
   ]
  },
  {
   "cell_type": "markdown",
   "metadata": {
    "slideshow": {
     "slide_type": "slide"
    }
   },
   "source": [
    "## Principal component analysis"
   ]
  },
  {
   "cell_type": "markdown",
   "metadata": {},
   "source": [
    "* __Principal Component Analysis (PCA)__ summarises a large set of correlated variables by smaller number of representative variables that explain most of the variability of the original data set.\n",
    "* It is a standard method for reducing the dimension of high dimensional, highly correlated systems.\n",
    "* The principal components are common factors that are unobservable (latent) and directly estimated from the data. \n",
    "* While being explanatory in a statistical sense, the factors do not necessarily have an economic interpretation. "
   ]
  },
  {
   "cell_type": "markdown",
   "metadata": {
    "slideshow": {
     "slide_type": "subslide"
    }
   },
   "source": [
    "### PCA\n",
    "\n",
    "<center>\n",
    "    <table><tr>\n",
    "        <td><img src=\"pics/pcaexample.png\" width=500px></td>\n",
    "        <td><img src=\"pics/pca3.png\" width=500px></td> \n",
    "        </tr>\n",
    "    </table>\n",
    "</center>"
   ]
  },
  {
   "cell_type": "markdown",
   "metadata": {
    "slideshow": {
     "slide_type": "subslide"
    }
   },
   "source": [
    "### PCA\n",
    "\n",
    "* The objective is to take $p$ random variables $X_1, X_2, \\ldots, X_p$ and find (linear) combinations of these to produce random variables $Z_1, \\ldots, Z_p$, the __principal components__, that are uncorrelated. \n",
    "* Geometrically, expressing $X_1,\\ldots, X_p$ through linear combinations $Z_1,\\ldots, Z_p$ can be thought of as shifting and rotating the axes of the coordinate system (see left graph). \n",
    "* Hence, the transform leaves the data points unchanged, but expresses them using different coordinates. \n",
    "* The lack of correlation is a useful property because it means that the principal components are measuring different \"dimensions\" of the data. \n",
    "* The principal components can be ordered according to their variance, that is, $\\text{Var}(Z_1)\\geq \\text{Var}(Z_2)\\geq \\cdots \\geq \\text{Var}(Z_p)$. \n",
    "* If the variance captured in the higher dimensions is sufficiently small, then discarding those higher dimensions will retain most of the variability, so only little information is lost. "
   ]
  },
  {
   "cell_type": "markdown",
   "metadata": {
    "slideshow": {
     "slide_type": "subslide"
    }
   },
   "source": [
    "### PCA\n",
    "\n",
    "* Let $(X, Y)$ be are standard normally distributed random variables with a correlation of $0.7$. \n",
    "* The left graph above shows a scatterplot of a sample of 100 random numbers $(x_1, y_1), \\ldots, (x_{100},  y_{100})$. \n",
    "* By shifting and rotating the axes, new variables $Z_1, Z_2$, the principal components, with $Z_i=a_i X + b_i Y$ are obtained. \n",
    "* The data sample expressed in terms of $Z_1, Z_2$ is uncorrelated.\n",
    "* Also, the variance of the data contribution from the first principal component $Z_1$ is much greater than the variance contribution from the second principal component.\n",
    "* The graph on the right shows the data points when the data are onto the first principal component, discarding the second dimensions. "
   ]
  },
  {
   "cell_type": "markdown",
   "metadata": {
    "slideshow": {
     "slide_type": "subslide"
    }
   },
   "source": [
    "### PCA\n",
    "\n",
    "* The sample variance of $(x_1, \\ldots, x_n)$ is $0.9244$ and the sample variance of $(y_1, \\ldots, y_n)$ is $0.9226$, whereas the sample variance of the data in the first principal component is $1.6014$ and of the second principal component is $0.2456$. \n",
    "* In other words, while the original axes each account for roughly $50\\%$ of the total variance, the first principal component accounts for $87\\%$ of the sample variance.\n",
    "* Neglecting the second principal component and expressing the data in the first principal component only retains $87\\%$ of the variance (see right graph. \n",
    "* In practice, the number of dimensions will be higher, and one will choose the number of principal components to reflect a certain variance contribution such as $99\\%$.\n",
    "* If the data are sufficiently correlated, then only few dimensions (principal components) will be required even for high-dimensional data. "
   ]
  },
  {
   "cell_type": "markdown",
   "metadata": {
    "slideshow": {
     "slide_type": "subslide"
    }
   },
   "source": [
    "### PCA example for interest rate term structure"
   ]
  },
  {
   "cell_type": "markdown",
   "metadata": {},
   "source": [
    "* Interest rates of different maturities are known to exhibit large correlations. \n",
    "* Interest rate term structures are therefore a good candidate for a representation by a few factors only. \n",
    "* What do you think are the main ways in which an interest term structure moves over time?\n",
    "* The data below is taken from \n",
    "\n",
    "  Hull: Machine Learning in Business. 3rd edition, independently published, 2021. "
   ]
  },
  {
   "cell_type": "code",
   "execution_count": 588,
   "metadata": {
    "slideshow": {
     "slide_type": "slide"
    }
   },
   "outputs": [],
   "source": [
    "import numpy as np\n",
    "import pandas as pd\n",
    "import matplotlib.pyplot as plt\n",
    "import seaborn as sns\n",
    "from scipy import linalg"
   ]
  },
  {
   "cell_type": "code",
   "execution_count": 589,
   "metadata": {},
   "outputs": [
    {
     "data": {
      "text/html": [
       "<div>\n",
       "<style scoped>\n",
       "    .dataframe tbody tr th:only-of-type {\n",
       "        vertical-align: middle;\n",
       "    }\n",
       "\n",
       "    .dataframe tbody tr th {\n",
       "        vertical-align: top;\n",
       "    }\n",
       "\n",
       "    .dataframe thead th {\n",
       "        text-align: right;\n",
       "    }\n",
       "</style>\n",
       "<table border=\"1\" class=\"dataframe\">\n",
       "  <thead>\n",
       "    <tr style=\"text-align: right;\">\n",
       "      <th></th>\n",
       "      <th>1yr</th>\n",
       "      <th>2yr</th>\n",
       "      <th>3yr</th>\n",
       "      <th>5yr</th>\n",
       "      <th>7yr</th>\n",
       "      <th>10yr</th>\n",
       "      <th>20yr</th>\n",
       "      <th>30yr</th>\n",
       "    </tr>\n",
       "  </thead>\n",
       "  <tbody>\n",
       "    <tr>\n",
       "      <th>2010-01-04</th>\n",
       "      <td>0.45</td>\n",
       "      <td>1.09</td>\n",
       "      <td>1.66</td>\n",
       "      <td>2.65</td>\n",
       "      <td>3.36</td>\n",
       "      <td>3.85</td>\n",
       "      <td>4.60</td>\n",
       "      <td>4.65</td>\n",
       "    </tr>\n",
       "    <tr>\n",
       "      <th>2010-01-05</th>\n",
       "      <td>0.41</td>\n",
       "      <td>1.01</td>\n",
       "      <td>1.57</td>\n",
       "      <td>2.56</td>\n",
       "      <td>3.28</td>\n",
       "      <td>3.77</td>\n",
       "      <td>4.54</td>\n",
       "      <td>4.59</td>\n",
       "    </tr>\n",
       "    <tr>\n",
       "      <th>2010-01-06</th>\n",
       "      <td>0.40</td>\n",
       "      <td>1.01</td>\n",
       "      <td>1.60</td>\n",
       "      <td>2.60</td>\n",
       "      <td>3.33</td>\n",
       "      <td>3.85</td>\n",
       "      <td>4.63</td>\n",
       "      <td>4.70</td>\n",
       "    </tr>\n",
       "    <tr>\n",
       "      <th>2010-01-07</th>\n",
       "      <td>0.40</td>\n",
       "      <td>1.03</td>\n",
       "      <td>1.62</td>\n",
       "      <td>2.62</td>\n",
       "      <td>3.33</td>\n",
       "      <td>3.85</td>\n",
       "      <td>4.62</td>\n",
       "      <td>4.69</td>\n",
       "    </tr>\n",
       "    <tr>\n",
       "      <th>2010-01-08</th>\n",
       "      <td>0.37</td>\n",
       "      <td>0.96</td>\n",
       "      <td>1.56</td>\n",
       "      <td>2.57</td>\n",
       "      <td>3.31</td>\n",
       "      <td>3.83</td>\n",
       "      <td>4.61</td>\n",
       "      <td>4.70</td>\n",
       "    </tr>\n",
       "  </tbody>\n",
       "</table>\n",
       "</div>"
      ],
      "text/plain": [
       "             1yr   2yr   3yr   5yr   7yr  10yr  20yr  30yr\n",
       "2010-01-04  0.45  1.09  1.66  2.65  3.36  3.85  4.60  4.65\n",
       "2010-01-05  0.41  1.01  1.57  2.56  3.28  3.77  4.54  4.59\n",
       "2010-01-06  0.40  1.01  1.60  2.60  3.33  3.85  4.63  4.70\n",
       "2010-01-07  0.40  1.03  1.62  2.62  3.33  3.85  4.62  4.69\n",
       "2010-01-08  0.37  0.96  1.56  2.57  3.31  3.83  4.61  4.70"
      ]
     },
     "execution_count": 589,
     "metadata": {},
     "output_type": "execute_result"
    }
   ],
   "source": [
    "data=pd.read_excel(\"./data/Treasuries_Hull.xlsx\", index_col=0, parse_dates=True)\n",
    "data.head()"
   ]
  },
  {
   "cell_type": "markdown",
   "metadata": {
    "slideshow": {
     "slide_type": "subslide"
    }
   },
   "source": [
    "* Our interest lies in movements of interest rate term structures, therefore we take first differences of the data."
   ]
  },
  {
   "cell_type": "code",
   "execution_count": 590,
   "metadata": {},
   "outputs": [
    {
     "data": {
      "text/html": [
       "<div>\n",
       "<style scoped>\n",
       "    .dataframe tbody tr th:only-of-type {\n",
       "        vertical-align: middle;\n",
       "    }\n",
       "\n",
       "    .dataframe tbody tr th {\n",
       "        vertical-align: top;\n",
       "    }\n",
       "\n",
       "    .dataframe thead th {\n",
       "        text-align: right;\n",
       "    }\n",
       "</style>\n",
       "<table border=\"1\" class=\"dataframe\">\n",
       "  <thead>\n",
       "    <tr style=\"text-align: right;\">\n",
       "      <th></th>\n",
       "      <th>1yr</th>\n",
       "      <th>2yr</th>\n",
       "      <th>3yr</th>\n",
       "      <th>5yr</th>\n",
       "      <th>7yr</th>\n",
       "      <th>10yr</th>\n",
       "      <th>20yr</th>\n",
       "      <th>30yr</th>\n",
       "    </tr>\n",
       "  </thead>\n",
       "  <tbody>\n",
       "    <tr>\n",
       "      <th>2010-01-05</th>\n",
       "      <td>-4.0</td>\n",
       "      <td>-8.0</td>\n",
       "      <td>-9.0</td>\n",
       "      <td>-9.0</td>\n",
       "      <td>-8.0</td>\n",
       "      <td>-8.0</td>\n",
       "      <td>-6.0</td>\n",
       "      <td>-6.0</td>\n",
       "    </tr>\n",
       "    <tr>\n",
       "      <th>2010-01-06</th>\n",
       "      <td>-1.0</td>\n",
       "      <td>0.0</td>\n",
       "      <td>3.0</td>\n",
       "      <td>4.0</td>\n",
       "      <td>5.0</td>\n",
       "      <td>8.0</td>\n",
       "      <td>9.0</td>\n",
       "      <td>11.0</td>\n",
       "    </tr>\n",
       "    <tr>\n",
       "      <th>2010-01-07</th>\n",
       "      <td>0.0</td>\n",
       "      <td>2.0</td>\n",
       "      <td>2.0</td>\n",
       "      <td>2.0</td>\n",
       "      <td>0.0</td>\n",
       "      <td>0.0</td>\n",
       "      <td>-1.0</td>\n",
       "      <td>-1.0</td>\n",
       "    </tr>\n",
       "    <tr>\n",
       "      <th>2010-01-08</th>\n",
       "      <td>-3.0</td>\n",
       "      <td>-7.0</td>\n",
       "      <td>-6.0</td>\n",
       "      <td>-5.0</td>\n",
       "      <td>-2.0</td>\n",
       "      <td>-2.0</td>\n",
       "      <td>-1.0</td>\n",
       "      <td>1.0</td>\n",
       "    </tr>\n",
       "    <tr>\n",
       "      <th>2010-01-11</th>\n",
       "      <td>-2.0</td>\n",
       "      <td>-1.0</td>\n",
       "      <td>-1.0</td>\n",
       "      <td>1.0</td>\n",
       "      <td>1.0</td>\n",
       "      <td>2.0</td>\n",
       "      <td>3.0</td>\n",
       "      <td>4.0</td>\n",
       "    </tr>\n",
       "  </tbody>\n",
       "</table>\n",
       "</div>"
      ],
      "text/plain": [
       "            1yr  2yr  3yr  5yr  7yr  10yr  20yr  30yr\n",
       "2010-01-05 -4.0 -8.0 -9.0 -9.0 -8.0  -8.0  -6.0  -6.0\n",
       "2010-01-06 -1.0  0.0  3.0  4.0  5.0   8.0   9.0  11.0\n",
       "2010-01-07  0.0  2.0  2.0  2.0  0.0   0.0  -1.0  -1.0\n",
       "2010-01-08 -3.0 -7.0 -6.0 -5.0 -2.0  -2.0  -1.0   1.0\n",
       "2010-01-11 -2.0 -1.0 -1.0  1.0  1.0   2.0   3.0   4.0"
      ]
     },
     "execution_count": 590,
     "metadata": {},
     "output_type": "execute_result"
    }
   ],
   "source": [
    "d=100*data.diff();\n",
    "d.dropna(inplace=True)\n",
    "d.head()"
   ]
  },
  {
   "cell_type": "markdown",
   "metadata": {
    "slideshow": {
     "slide_type": "subslide"
    }
   },
   "source": [
    "* Correlations of term structure movements:"
   ]
  },
  {
   "cell_type": "code",
   "execution_count": 591,
   "metadata": {},
   "outputs": [
    {
     "data": {
      "text/plain": [
       "<matplotlib.axes._subplots.AxesSubplot at 0x7feb6e19e750>"
      ]
     },
     "execution_count": 591,
     "metadata": {},
     "output_type": "execute_result"
    },
    {
     "data": {
      "image/png": "[encoded data removed]",
      "text/plain": [
       "<Figure size 432x288 with 2 Axes>"
      ]
     },
     "metadata": {
      "needs_background": "light"
     },
     "output_type": "display_data"
    }
   ],
   "source": [
    "sns.heatmap(d.corr())"
   ]
  },
  {
   "cell_type": "markdown",
   "metadata": {
    "slideshow": {
     "slide_type": "subslide"
    }
   },
   "source": [
    "* The principal components are the eigenvectors of the correlation matrix.\n",
    "* These are also called factor loadings. They express the \"weight\" of each factor for each maturity. "
   ]
  },
  {
   "cell_type": "code",
   "execution_count": 592,
   "metadata": {},
   "outputs": [],
   "source": [
    "w, vr=linalg.eig(d.corr()) # eigenvalues, eigenvectors"
   ]
  },
  {
   "cell_type": "markdown",
   "metadata": {
    "slideshow": {
     "slide_type": "subslide"
    }
   },
   "source": [
    "* The first PC captures changes in the level the term structure. \n",
    "* The second PC captures changes in the slope. \n",
    "* The third PC can be interpreted as a hump in the term structure."
   ]
  },
  {
   "cell_type": "code",
   "execution_count": 593,
   "metadata": {},
   "outputs": [
    {
     "data": {
      "text/plain": [
       "<matplotlib.legend.Legend at 0x7feb6e386090>"
      ]
     },
     "execution_count": 593,
     "metadata": {},
     "output_type": "execute_result"
    },
    {
     "data": {
      "image/png": "[encoded data removed]",
      "text/plain": [
       "<Figure size 504x360 with 1 Axes>"
      ]
     },
     "metadata": {
      "needs_background": "light"
     },
     "output_type": "display_data"
    }
   ],
   "source": [
    "plt.figure(figsize=(7,5))\n",
    "plt.xticks(range(len(d.columns)), d.columns, rotation='vertical')\n",
    "plt.plot(np.real(vr[:,0:3])); # first factor loadings\n",
    "plt.legend([\"PC 1\", \"PC 2\", \"PC 3\"])"
   ]
  },
  {
   "cell_type": "markdown",
   "metadata": {
    "slideshow": {
     "slide_type": "subslide"
    }
   },
   "source": [
    "* The eigenvalues express the variance captured by each PC."
   ]
  },
  {
   "cell_type": "code",
   "execution_count": 594,
   "metadata": {},
   "outputs": [
    {
     "data": {
      "text/plain": [
       "array([79.2785935 , 12.44724531,  5.31159001,  1.67939721,  0.66881407,\n",
       "        0.26405994,  0.18916142,  0.16113855])"
      ]
     },
     "execution_count": 594,
     "metadata": {},
     "output_type": "execute_result"
    }
   ],
   "source": [
    "np.real(100*w/w.sum()) # percentage variances"
   ]
  },
  {
   "cell_type": "markdown",
   "metadata": {
    "slideshow": {
     "slide_type": "subslide"
    }
   },
   "source": [
    "* The principal component scores are the original data expressed in the PC coordinate system, dimension by dimension. \n",
    "* These are obtained by multiplying each PC vector with the original data (de-meaned). \n",
    "* Since the principal components are determined from maximising the variance explained by the model, this can be used to interpret the principal components. \n",
    "* The correlation of each score with the original data allow for an interpretation of what each principal component represents."
   ]
  },
  {
   "cell_type": "code",
   "execution_count": 595,
   "metadata": {},
   "outputs": [],
   "source": [
    "pc1 = np.transpose(vr[:,0]*(d-d.mean())).sum()\n",
    "pc2 = np.transpose(vr[:,1]*(d-d.mean())).sum()\n",
    "pc3 = np.transpose(vr[:,2]*(d-d.mean())).sum()\n",
    "pc4 = np.transpose(vr[:,3]*(d-d.mean())).sum()\n",
    "pc5 = np.transpose(vr[:,4]*(d-d.mean())).sum()"
   ]
  },
  {
   "cell_type": "markdown",
   "metadata": {},
   "source": [
    "* This gives the same result: "
   ]
  },
  {
   "cell_type": "code",
   "execution_count": 596,
   "metadata": {},
   "outputs": [],
   "source": [
    "pc = np.transpose(np.matmul(np.transpose(vr), np.transpose(d.values-d.values.mean())))"
   ]
  },
  {
   "cell_type": "code",
   "execution_count": 597,
   "metadata": {},
   "outputs": [],
   "source": [
    "for i in range(5):\n",
    "    d.insert(i, 'pc' + str(i), pc[:,i])"
   ]
  },
  {
   "cell_type": "markdown",
   "metadata": {
    "slideshow": {
     "slide_type": "subslide"
    }
   },
   "source": [
    "* The plot below shows the correlations of each interest rate with the first five PC's. \n",
    "* Note how the interpretation is similar to the factor loadings above."
   ]
  },
  {
   "cell_type": "code",
   "execution_count": 598,
   "metadata": {},
   "outputs": [
    {
     "data": {
      "text/plain": [
       "<matplotlib.axes._subplots.AxesSubplot at 0x7feb82b10a50>"
      ]
     },
     "execution_count": 598,
     "metadata": {},
     "output_type": "execute_result"
    },
    {
     "data": {
      "image/png": "[encoded data removed]",
      "text/plain": [
       "<Figure size 504x360 with 2 Axes>"
      ]
     },
     "metadata": {
      "needs_background": "light"
     },
     "output_type": "display_data"
    }
   ],
   "source": [
    "plt.figure(figsize=(7,5))\n",
    "sns.heatmap(np.transpose(d.corr().head(5)).iloc[5:])"
   ]
  }
 ],
 "metadata": {
  "celltoolbar": "Slideshow",
  "hide_code_all_hidden": true,
  "kernelspec": {
   "display_name": "Python 3",
   "language": "python",
   "name": "python3"
  },
  "language_info": {
   "codemirror_mode": {
    "name": "ipython",
    "version": 3
   },
   "file_extension": ".py",
   "mimetype": "text/x-python",
   "name": "python",
   "nbconvert_exporter": "python",
   "pygments_lexer": "ipython3",
   "version": "3.7.6"
  },
  "latex_metadata": {
   "author": "Prof.\\ Dr.\\ Natalie Packham\\\\ DVFA \\\\ Chartered Financial Data Scientist\\\\ Summer Term 2020",
   "bib": "notebook.bib",
   "title": "Financial Time Series"
  },
  "livereveal": {
   "slideNumber": "c"
  },
  "toc": {
   "base_numbering": "5",
   "nav_menu": {},
   "number_sections": true,
   "sideBar": true,
   "skip_h1_title": false,
   "title_cell": "Table of Contents",
   "title_sidebar": "Contents",
   "toc_cell": false,
   "toc_position": {
    "height": "calc(100% - 180px)",
    "left": "10px",
    "top": "150px",
    "width": "287.997px"
   },
   "toc_section_display": true,
   "toc_window_display": false
  }
 },
 "nbformat": 4,
 "nbformat_minor": 4
}
