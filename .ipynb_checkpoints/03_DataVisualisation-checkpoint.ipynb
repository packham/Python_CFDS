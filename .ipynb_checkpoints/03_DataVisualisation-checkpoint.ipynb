{
 "cells": [
  {
   "cell_type": "markdown",
   "metadata": {
    "hideCode": false,
    "hidePrompt": false,
    "slideshow": {
     "slide_type": "slide"
    }
   },
   "source": [
    "<!-- <img src=\"pics/CFDS.png\" width=75px>-->\n",
    "<img src=\"pics/DVFA-Akademie_Logo_800px.jpg\" width=300px>\n",
    "<br>\n",
    "    <p style=\"color:#0E1E5E\">\n",
    "    <b>\n",
    "        <font size=\"6\">CFDS® – Chartered Financial Data Scientist</font>\n",
    "        <br><br>\n",
    "        <font size=\"8\">Introduction to Python</font>\n",
    "    </b>\n",
    "<br><br>\n",
    "<b>\n",
    "    <font size=\"5\"> \n",
    "        Prof. Dr. Natalie Packham <br><br>\n",
    "        13 December 2023\n",
    "    </font>\n",
    "</b>\n",
    "</p>"
   ]
  },
  {
   "cell_type": "markdown",
   "metadata": {
    "slideshow": {
     "slide_type": "slide"
    }
   },
   "source": [
    "# Data Visualisation"
   ]
  },
  {
   "cell_type": "markdown",
   "metadata": {
    "slideshow": {
     "slide_type": "subslide"
    }
   },
   "source": [
    "* We look at the [`matplotlib`](http://www.matplotlib.org) plotting libraries. \n",
    "* Interactive 2D plotting is available with [`plotly`](http://plot.ly).  \n",
    "* More information on `plotly` and some introductory examples can be found in the __Python for Finance__ book.\n",
    "* Likewise, an example for 3D plotting is also found in the book or in online documentation.\n",
    "* Here, we focus on 2D plotting."
   ]
  },
  {
   "cell_type": "markdown",
   "metadata": {
    "slideshow": {
     "slide_type": "slide"
    }
   },
   "source": [
    "### 2D Plotting\n",
    "\n",
    "* Some standard imports and customatisations: "
   ]
  },
  {
   "cell_type": "code",
   "execution_count": null,
   "metadata": {},
   "outputs": [],
   "source": [
    "import matplotlib as mpl \n",
    "import matplotlib.pyplot as plt  # main plotting subpackage\n",
    "plt.style.use('seaborn')  # sets the plotting style\n",
    "mpl.rcParams['font.family'] = 'serif'  # set the font to be serif in all plots"
   ]
  },
  {
   "cell_type": "code",
   "execution_count": null,
   "metadata": {},
   "outputs": [],
   "source": [
    "mpl.__version__  # the version of matplotlib"
   ]
  },
  {
   "cell_type": "markdown",
   "metadata": {
    "slideshow": {
     "slide_type": "subslide"
    }
   },
   "source": [
    "### Simple plotting\n",
    "* The standard (and powerful) plotting method is `plt.plot()`.\n",
    "* It takes as basic argument lists or arrays of $x$ values and $y$ values"
   ]
  },
  {
   "cell_type": "code",
   "execution_count": null,
   "metadata": {},
   "outputs": [],
   "source": [
    "import numpy as np\n",
    "np.random.seed(1000)\n",
    "y=np.random.standard_normal(20) # draw some random numbers\n",
    "x=np.arange(len(y)) # fix the x axis\n",
    "plt.plot(x,y); # plot y against x"
   ]
  },
  {
   "cell_type": "markdown",
   "metadata": {
    "slideshow": {
     "slide_type": "subslide"
    }
   },
   "source": [
    "### Simple plotting\n",
    "* A number of functions are available to customise the plot: "
   ]
  },
  {
   "cell_type": "code",
   "execution_count": null,
   "metadata": {},
   "outputs": [],
   "source": [
    "plt.plot(y.cumsum())\n",
    "plt.grid(False) # "
   ]
  },
  {
   "cell_type": "code",
   "execution_count": null,
   "metadata": {},
   "outputs": [],
   "source": [
    "plt.plot(y.cumsum())\n",
    "plt.grid(False)\n",
    "plt.axis('equal');"
   ]
  },
  {
   "cell_type": "markdown",
   "metadata": {
    "slideshow": {
     "slide_type": "subslide"
    }
   },
   "source": [
    "### Simple plotting\n",
    "* Options for `plt.axis()`:\n",
    "\n",
    "![Options for plt.axis](pics/plt_axis.png)\n",
    "\n",
    "\n",
    "<div align=\"right\" style=\"font-size:14px\">Source: Python for Finance, 2nd ed.</div>"
   ]
  },
  {
   "cell_type": "markdown",
   "metadata": {
    "slideshow": {
     "slide_type": "subslide"
    }
   },
   "source": [
    "### Simple plotting\n",
    "* Further customisations:"
   ]
  },
  {
   "cell_type": "code",
   "execution_count": null,
   "metadata": {},
   "outputs": [],
   "source": [
    "plt.figure(figsize=(8, 5))  # increase size of figure\n",
    "plt.plot(y.cumsum(), 'b', lw=1.5)  # plot data in blue with a line width of 1.5\n",
    "plt.plot(y.cumsum(), 'ro')  # plot the data points as red dots\n",
    "plt.xlabel('index')  # label of x-axis\n",
    "plt.ylabel('value')  # label of y-axis\n",
    "plt.title('A Simple Plot');  # plot title"
   ]
  },
  {
   "cell_type": "markdown",
   "metadata": {
    "slideshow": {
     "slide_type": "subslide"
    }
   },
   "source": [
    "### Simple plotting\n",
    "* Standard colour abbreviations:\n",
    "\n",
    "Character | Colour\n",
    "----------| -----------\n",
    "b         | blue\n",
    "g         | green\n",
    "r         | red\n",
    "c         | cyan\n",
    "m         | magenta\n",
    "y         | yellow\n",
    "k         | black\n",
    "w         | white"
   ]
  },
  {
   "cell_type": "markdown",
   "metadata": {
    "slideshow": {
     "slide_type": "subslide"
    }
   },
   "source": [
    "### Simple plotting\n",
    "* Line styles:\n",
    "\n",
    "Character | Colour\n",
    "----------| -----------\n",
    "`'-'`     | solid line\n",
    "`'--'`    | dashed line\n",
    "`'-.`     | dash-dot line \n",
    "`':'`     | dotted line"
   ]
  },
  {
   "cell_type": "markdown",
   "metadata": {
    "slideshow": {
     "slide_type": "subslide"
    }
   },
   "source": [
    "### Simple plotting\n",
    "* Some marker styles:\n",
    "\n",
    "Character | Colour\n",
    "----------| -----------\n",
    "`'.'`     | point \n",
    "`','`     | pixel \n",
    "`'o'`     | circle  \n",
    "`'v'`     | triangle down \n",
    "`'^'`     | triangle up \n",
    "`'<'`     | triangle left\n",
    "`'>'`     | triangle right\n",
    "`'*'`     | star \n",
    "`'h'`     | hexagon\n",
    "\n",
    "* More marker styles are found [here](https://matplotlib.org/api/_as_gen/matplotlib.pyplot.plot.html) and [here](https://matplotlib.org/api/markers_api.html). "
   ]
  },
  {
   "cell_type": "markdown",
   "metadata": {
    "slideshow": {
     "slide_type": "subslide"
    }
   },
   "source": [
    "### Plotting several data sets\n",
    "* If the data are arranged in a multi-dimensional array, then `plot()` will automatically plot the columns separately: "
   ]
  },
  {
   "cell_type": "code",
   "execution_count": null,
   "metadata": {},
   "outputs": [],
   "source": [
    "y = np.random.standard_normal((20, 2)).cumsum(axis=0)\n",
    "plt.figure(figsize=(6, 3))\n",
    "plt.plot(y[:, 0], lw=1.5, label='1st')  # define a label to be used in the legend\n",
    "plt.plot(y[:, 1], lw=1.5, label='2nd')  \n",
    "plt.plot(y, 'ro')\n",
    "plt.legend(loc=0)  # add a legend, consult the legend help to find out about locations\n",
    "plt.xlabel('index')\n",
    "plt.ylabel('value')\n",
    "plt.title('A Simple Plot');"
   ]
  },
  {
   "cell_type": "markdown",
   "metadata": {
    "slideshow": {
     "slide_type": "subslide"
    }
   },
   "source": [
    "### Subplots\n",
    "* `plt.subplots()` is a powerful method to either combine several plots with separate axes or to produce separate plots. \n",
    "* In the first example, the plots overlay each other:"
   ]
  },
  {
   "cell_type": "markdown",
   "metadata": {
    "slideshow": {
     "slide_type": "subslide"
    }
   },
   "source": [
    "### Subplots"
   ]
  },
  {
   "cell_type": "code",
   "execution_count": null,
   "metadata": {},
   "outputs": [],
   "source": [
    "y[:,0] = y[:,0] * 100"
   ]
  },
  {
   "cell_type": "code",
   "execution_count": null,
   "metadata": {},
   "outputs": [],
   "source": [
    "fig, ax1 = plt.subplots()  # defines  figure and axis objects\n",
    "plt.plot(y[:, 0], 'b', lw=1.5, label='1st')\n",
    "plt.plot(y[:, 0], 'ro')\n",
    "plt.legend(loc=8)\n",
    "plt.xlabel('index')\n",
    "plt.ylabel('value 1st')\n",
    "plt.title('A Simple Plot')\n",
    "ax2 = ax1.twinx()  # create a second y-axis object\n",
    "plt.plot(y[:, 1], 'g', lw=1.5, label='2nd')\n",
    "plt.plot(y[:, 1], 'ro')\n",
    "plt.legend(loc=0)\n",
    "plt.ylabel('value 2nd');"
   ]
  },
  {
   "cell_type": "markdown",
   "metadata": {
    "slideshow": {
     "slide_type": "subslide"
    }
   },
   "source": [
    "### Subplots\n",
    "* The second example creates two separate plots.\n",
    "* The main argument to `subplot()` is a 3-digit integer describing the position of the subplot. \n",
    "* The integers refer to `nrows`, `ncols` and `index`, where `index` starts at 1 in the upper left corner and increases to the right."
   ]
  },
  {
   "cell_type": "markdown",
   "metadata": {
    "slideshow": {
     "slide_type": "subslide"
    }
   },
   "source": [
    "### Subplots"
   ]
  },
  {
   "cell_type": "code",
   "execution_count": null,
   "metadata": {},
   "outputs": [],
   "source": [
    "plt.figure(figsize=(6, 3))\n",
    "plt.subplot(211)  # defines the upper plot in a figure with two rows and one column\n",
    "plt.plot(y[:, 0], lw=1.5, label='1st')\n",
    "plt.plot(y[:, 0], 'ro')\n",
    "plt.legend(loc=0)\n",
    "plt.ylabel('value')\n",
    "plt.title('A Simple Plot')\n",
    "plt.subplot(212)  # defines the lower plot\n",
    "plt.plot(y[:, 1], 'g', lw=1.5, label='2nd')\n",
    "plt.plot(y[:, 1], 'ro')\n",
    "plt.legend(loc=0)\n",
    "plt.xlabel('index')\n",
    "plt.ylabel('value');"
   ]
  },
  {
   "cell_type": "markdown",
   "metadata": {
    "slideshow": {
     "slide_type": "subslide"
    }
   },
   "source": [
    "### Other plot styles\n",
    "* The following examples introduce bar charts, scatter plots, histograms and boxplots"
   ]
  },
  {
   "cell_type": "markdown",
   "metadata": {
    "slideshow": {
     "slide_type": "subslide"
    }
   },
   "source": [
    "### Bar chart"
   ]
  },
  {
   "cell_type": "code",
   "execution_count": null,
   "metadata": {},
   "outputs": [],
   "source": [
    "plt.bar(np.arange(len(y)), abs(y[:, 1]), width=0.5, color='g')\n",
    "plt.xlabel('index')\n",
    "plt.title('Bar chart');"
   ]
  },
  {
   "cell_type": "markdown",
   "metadata": {
    "slideshow": {
     "slide_type": "subslide"
    }
   },
   "source": [
    "### Scatter plot"
   ]
  },
  {
   "cell_type": "code",
   "execution_count": null,
   "metadata": {},
   "outputs": [],
   "source": [
    "y = np.random.standard_normal((1000, 2))  "
   ]
  },
  {
   "cell_type": "code",
   "execution_count": null,
   "metadata": {},
   "outputs": [],
   "source": [
    "plt.scatter(y[:, 0], y[:, 1], marker='o')  \n",
    "plt.xlabel('1st')\n",
    "plt.ylabel('2nd')\n",
    "plt.title('Scatter Plot');"
   ]
  },
  {
   "cell_type": "markdown",
   "metadata": {
    "slideshow": {
     "slide_type": "subslide"
    }
   },
   "source": [
    "### Scatter plot\n",
    "* Adding a third dimension via a colour map:"
   ]
  },
  {
   "cell_type": "code",
   "execution_count": null,
   "metadata": {},
   "outputs": [],
   "source": [
    "c = np.random.randint(0, 10, len(y))"
   ]
  },
  {
   "cell_type": "code",
   "execution_count": null,
   "metadata": {},
   "outputs": [],
   "source": [
    "plt.scatter(y[:, 0], y[:, 1],\n",
    "            c=c,  \n",
    "            cmap='coolwarm',  \n",
    "            marker='o')  \n",
    "plt.colorbar()\n",
    "plt.xlabel('1st')\n",
    "plt.ylabel('2nd')\n",
    "plt.title('Scatter Plot');"
   ]
  },
  {
   "cell_type": "markdown",
   "metadata": {
    "slideshow": {
     "slide_type": "subslide"
    }
   },
   "source": [
    "### Histogram"
   ]
  },
  {
   "cell_type": "code",
   "execution_count": null,
   "metadata": {},
   "outputs": [],
   "source": [
    "plt.hist(y, label=['1st', '2nd'], bins=25)  \n",
    "plt.legend(loc=0)\n",
    "plt.xlabel('value')\n",
    "plt.ylabel('frequency')\n",
    "plt.title('Histogram');"
   ]
  },
  {
   "cell_type": "markdown",
   "metadata": {
    "slideshow": {
     "slide_type": "subslide"
    }
   },
   "source": [
    "### Histogram\n",
    "* Parameters for `plt.hist()`:\n",
    "\n",
    "![Parameters for plt.hist](pics/plt_hist_1.png)\n",
    "\n",
    "![Parameters for plt.hist](pics/plt_hist_2.png)\n",
    "\n",
    "\n",
    "<div align=\"right\" style=\"font-size:14px\">Source: Python for Finance, 2nd ed.</div>"
   ]
  },
  {
   "cell_type": "markdown",
   "metadata": {
    "slideshow": {
     "slide_type": "subslide"
    }
   },
   "source": [
    "### Histogram\n",
    "* A stacked histogram:"
   ]
  },
  {
   "cell_type": "code",
   "execution_count": null,
   "metadata": {},
   "outputs": [],
   "source": [
    "plt.hist(y, label=['1st', '2nd'], color=['b', 'g'],\n",
    "            stacked=True, bins=20, alpha=0.5)\n",
    "plt.legend(loc=0)\n",
    "plt.xlabel('value')\n",
    "plt.ylabel('frequency')\n",
    "plt.title('Histogram');"
   ]
  },
  {
   "cell_type": "markdown",
   "metadata": {
    "slideshow": {
     "slide_type": "subslide"
    }
   },
   "source": [
    "### Boxplot"
   ]
  },
  {
   "cell_type": "code",
   "execution_count": null,
   "metadata": {},
   "outputs": [],
   "source": [
    "fig, ax = plt.subplots()\n",
    "plt.boxplot(y)  \n",
    "plt.setp(ax, xticklabels=['1st', '2nd'])  \n",
    "plt.xlabel('data set')\n",
    "plt.ylabel('value')\n",
    "plt.title('Boxplot');"
   ]
  },
  {
   "cell_type": "markdown",
   "metadata": {
    "slideshow": {
     "slide_type": "subslide"
    }
   },
   "source": [
    "### Further examples\n",
    "* Many more examples are found in the `matploblib` [gallery](https://matplotlib.org//gallery.html)."
   ]
  }
 ],
 "metadata": {
  "celltoolbar": "Slideshow",
  "hide_code_all_hidden": true,
  "kernelspec": {
   "display_name": "Python 3 (ipykernel)",
   "language": "python",
   "name": "python3"
  },
  "language_info": {
   "codemirror_mode": {
    "name": "ipython",
    "version": 3
   },
   "file_extension": ".py",
   "mimetype": "text/x-python",
   "name": "python",
   "nbconvert_exporter": "python",
   "pygments_lexer": "ipython3",
   "version": "3.11.4"
  },
  "latex_metadata": {
   "author": "Prof.\\ Dr.\\ Natalie Packham\\\\ DVFA \\\\ Chartered Financial Data Scientist\\\\ Summer Term 2020",
   "bib": "notebook.bib",
   "title": "Data Visualisation"
  },
  "livereveal": {
   "slideNumber": "c"
  },
  "toc": {
   "base_numbering": "3",
   "nav_menu": {},
   "number_sections": true,
   "sideBar": true,
   "skip_h1_title": false,
   "title_cell": "Table of Contents",
   "title_sidebar": "Contents",
   "toc_cell": false,
   "toc_position": {
    "height": "calc(100% - 180px)",
    "left": "10px",
    "top": "150px",
    "width": "288px"
   },
   "toc_section_display": true,
   "toc_window_display": false
  }
 },
 "nbformat": 4,
 "nbformat_minor": 4
}
